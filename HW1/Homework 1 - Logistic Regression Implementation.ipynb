{
 "cells": [
  {
   "cell_type": "markdown",
   "id": "f4351816",
   "metadata": {},
   "source": [
    "# Task 1"
   ]
  },
  {
   "cell_type": "markdown",
   "id": "1bb65677",
   "metadata": {},
   "source": [
    "A real world machine learning problem I would lile to solve using Logistic Regression is predicting if a hotel booking will be cancelled or not. This is a helpful issue to solve as it gives hotels an upperhand to know if there is a high possibility a guest will cancel their reservation to save money and resources. This is a binary classification problem with two options: will cancel or will not cancel. Logistic regression is the best choice for this as it is most suitable for such binary classification problems. Logistic regression also provides a probability of the outcome, which is a useful metric to have as it is easy to interpret and can be used by businesses. It is also a good baseline model to then improve on with more complex models."
   ]
  },
  {
   "cell_type": "markdown",
   "id": "fcb3d2b3",
   "metadata": {},
   "source": [
    "# Task 2"
   ]
  },
  {
   "cell_type": "markdown",
   "id": "4c5d38a3",
   "metadata": {},
   "source": [
    "This is the link to the dataset I chose: https://www.kaggle.com/datasets/jessemostipak/hotel-booking-demand?resource=download.\n",
    "\n",
    "I downloaded the dataset and loaded it locally to this notebook."
   ]
  },
  {
   "cell_type": "markdown",
   "id": "497e7306",
   "metadata": {},
   "source": [
    "# EDA"
   ]
  },
  {
   "cell_type": "code",
   "execution_count": 1,
   "id": "692caaf6",
   "metadata": {},
   "outputs": [],
   "source": [
    "#Importing necessary libraries\n",
    "import pandas as pd\n",
    "import matplotlib.pyplot as plt\n",
    "import seaborn as sns\n",
    "from sklearn.model_selection import train_test_split\n",
    "from sklearn.preprocessing import StandardScaler\n",
    "import numpy as np\n",
    "from sklearn.metrics import accuracy_score, log_loss"
   ]
  },
  {
   "cell_type": "code",
   "execution_count": 5,
   "id": "2909bebe",
   "metadata": {},
   "outputs": [],
   "source": [
    "#Loading the dataset\n",
    "path = 'HW1/hotel_bookings.csv'\n",
    "data = pd.read_csv(path)"
   ]
  },
  {
   "cell_type": "code",
   "execution_count": 6,
   "id": "41fc9606",
   "metadata": {},
   "outputs": [
    {
     "data": {
      "text/html": [
       "<div>\n",
       "<style scoped>\n",
       "    .dataframe tbody tr th:only-of-type {\n",
       "        vertical-align: middle;\n",
       "    }\n",
       "\n",
       "    .dataframe tbody tr th {\n",
       "        vertical-align: top;\n",
       "    }\n",
       "\n",
       "    .dataframe thead th {\n",
       "        text-align: right;\n",
       "    }\n",
       "</style>\n",
       "<table border=\"1\" class=\"dataframe\">\n",
       "  <thead>\n",
       "    <tr style=\"text-align: right;\">\n",
       "      <th></th>\n",
       "      <th>hotel</th>\n",
       "      <th>is_canceled</th>\n",
       "      <th>lead_time</th>\n",
       "      <th>arrival_date_year</th>\n",
       "      <th>arrival_date_month</th>\n",
       "      <th>arrival_date_week_number</th>\n",
       "      <th>arrival_date_day_of_month</th>\n",
       "      <th>stays_in_weekend_nights</th>\n",
       "      <th>stays_in_week_nights</th>\n",
       "      <th>adults</th>\n",
       "      <th>...</th>\n",
       "      <th>deposit_type</th>\n",
       "      <th>agent</th>\n",
       "      <th>company</th>\n",
       "      <th>days_in_waiting_list</th>\n",
       "      <th>customer_type</th>\n",
       "      <th>adr</th>\n",
       "      <th>required_car_parking_spaces</th>\n",
       "      <th>total_of_special_requests</th>\n",
       "      <th>reservation_status</th>\n",
       "      <th>reservation_status_date</th>\n",
       "    </tr>\n",
       "  </thead>\n",
       "  <tbody>\n",
       "    <tr>\n",
       "      <th>0</th>\n",
       "      <td>Resort Hotel</td>\n",
       "      <td>0</td>\n",
       "      <td>342</td>\n",
       "      <td>2015</td>\n",
       "      <td>July</td>\n",
       "      <td>27</td>\n",
       "      <td>1</td>\n",
       "      <td>0</td>\n",
       "      <td>0</td>\n",
       "      <td>2</td>\n",
       "      <td>...</td>\n",
       "      <td>No Deposit</td>\n",
       "      <td>NaN</td>\n",
       "      <td>NaN</td>\n",
       "      <td>0</td>\n",
       "      <td>Transient</td>\n",
       "      <td>0.0</td>\n",
       "      <td>0</td>\n",
       "      <td>0</td>\n",
       "      <td>Check-Out</td>\n",
       "      <td>2015-07-01</td>\n",
       "    </tr>\n",
       "    <tr>\n",
       "      <th>1</th>\n",
       "      <td>Resort Hotel</td>\n",
       "      <td>0</td>\n",
       "      <td>737</td>\n",
       "      <td>2015</td>\n",
       "      <td>July</td>\n",
       "      <td>27</td>\n",
       "      <td>1</td>\n",
       "      <td>0</td>\n",
       "      <td>0</td>\n",
       "      <td>2</td>\n",
       "      <td>...</td>\n",
       "      <td>No Deposit</td>\n",
       "      <td>NaN</td>\n",
       "      <td>NaN</td>\n",
       "      <td>0</td>\n",
       "      <td>Transient</td>\n",
       "      <td>0.0</td>\n",
       "      <td>0</td>\n",
       "      <td>0</td>\n",
       "      <td>Check-Out</td>\n",
       "      <td>2015-07-01</td>\n",
       "    </tr>\n",
       "    <tr>\n",
       "      <th>2</th>\n",
       "      <td>Resort Hotel</td>\n",
       "      <td>0</td>\n",
       "      <td>7</td>\n",
       "      <td>2015</td>\n",
       "      <td>July</td>\n",
       "      <td>27</td>\n",
       "      <td>1</td>\n",
       "      <td>0</td>\n",
       "      <td>1</td>\n",
       "      <td>1</td>\n",
       "      <td>...</td>\n",
       "      <td>No Deposit</td>\n",
       "      <td>NaN</td>\n",
       "      <td>NaN</td>\n",
       "      <td>0</td>\n",
       "      <td>Transient</td>\n",
       "      <td>75.0</td>\n",
       "      <td>0</td>\n",
       "      <td>0</td>\n",
       "      <td>Check-Out</td>\n",
       "      <td>2015-07-02</td>\n",
       "    </tr>\n",
       "    <tr>\n",
       "      <th>3</th>\n",
       "      <td>Resort Hotel</td>\n",
       "      <td>0</td>\n",
       "      <td>13</td>\n",
       "      <td>2015</td>\n",
       "      <td>July</td>\n",
       "      <td>27</td>\n",
       "      <td>1</td>\n",
       "      <td>0</td>\n",
       "      <td>1</td>\n",
       "      <td>1</td>\n",
       "      <td>...</td>\n",
       "      <td>No Deposit</td>\n",
       "      <td>304.0</td>\n",
       "      <td>NaN</td>\n",
       "      <td>0</td>\n",
       "      <td>Transient</td>\n",
       "      <td>75.0</td>\n",
       "      <td>0</td>\n",
       "      <td>0</td>\n",
       "      <td>Check-Out</td>\n",
       "      <td>2015-07-02</td>\n",
       "    </tr>\n",
       "    <tr>\n",
       "      <th>4</th>\n",
       "      <td>Resort Hotel</td>\n",
       "      <td>0</td>\n",
       "      <td>14</td>\n",
       "      <td>2015</td>\n",
       "      <td>July</td>\n",
       "      <td>27</td>\n",
       "      <td>1</td>\n",
       "      <td>0</td>\n",
       "      <td>2</td>\n",
       "      <td>2</td>\n",
       "      <td>...</td>\n",
       "      <td>No Deposit</td>\n",
       "      <td>240.0</td>\n",
       "      <td>NaN</td>\n",
       "      <td>0</td>\n",
       "      <td>Transient</td>\n",
       "      <td>98.0</td>\n",
       "      <td>0</td>\n",
       "      <td>1</td>\n",
       "      <td>Check-Out</td>\n",
       "      <td>2015-07-03</td>\n",
       "    </tr>\n",
       "  </tbody>\n",
       "</table>\n",
       "<p>5 rows × 32 columns</p>\n",
       "</div>"
      ],
      "text/plain": [
       "          hotel  is_canceled  lead_time  arrival_date_year arrival_date_month  \\\n",
       "0  Resort Hotel            0        342               2015               July   \n",
       "1  Resort Hotel            0        737               2015               July   \n",
       "2  Resort Hotel            0          7               2015               July   \n",
       "3  Resort Hotel            0         13               2015               July   \n",
       "4  Resort Hotel            0         14               2015               July   \n",
       "\n",
       "   arrival_date_week_number  arrival_date_day_of_month  \\\n",
       "0                        27                          1   \n",
       "1                        27                          1   \n",
       "2                        27                          1   \n",
       "3                        27                          1   \n",
       "4                        27                          1   \n",
       "\n",
       "   stays_in_weekend_nights  stays_in_week_nights  adults  ...  deposit_type  \\\n",
       "0                        0                     0       2  ...    No Deposit   \n",
       "1                        0                     0       2  ...    No Deposit   \n",
       "2                        0                     1       1  ...    No Deposit   \n",
       "3                        0                     1       1  ...    No Deposit   \n",
       "4                        0                     2       2  ...    No Deposit   \n",
       "\n",
       "   agent company days_in_waiting_list customer_type   adr  \\\n",
       "0    NaN     NaN                    0     Transient   0.0   \n",
       "1    NaN     NaN                    0     Transient   0.0   \n",
       "2    NaN     NaN                    0     Transient  75.0   \n",
       "3  304.0     NaN                    0     Transient  75.0   \n",
       "4  240.0     NaN                    0     Transient  98.0   \n",
       "\n",
       "   required_car_parking_spaces  total_of_special_requests  reservation_status  \\\n",
       "0                            0                          0           Check-Out   \n",
       "1                            0                          0           Check-Out   \n",
       "2                            0                          0           Check-Out   \n",
       "3                            0                          0           Check-Out   \n",
       "4                            0                          1           Check-Out   \n",
       "\n",
       "  reservation_status_date  \n",
       "0              2015-07-01  \n",
       "1              2015-07-01  \n",
       "2              2015-07-02  \n",
       "3              2015-07-02  \n",
       "4              2015-07-03  \n",
       "\n",
       "[5 rows x 32 columns]"
      ]
     },
     "execution_count": 6,
     "metadata": {},
     "output_type": "execute_result"
    }
   ],
   "source": [
    "#Viewing the first few rows of the dataset to see all the features of the dataset\n",
    "data.head()\n",
    "\n",
    "#Observation: dataset has different data types based on the column"
   ]
  },
  {
   "cell_type": "code",
   "execution_count": 7,
   "id": "e4d0eafd",
   "metadata": {},
   "outputs": [
    {
     "data": {
      "text/plain": [
       "(119390, 32)"
      ]
     },
     "execution_count": 7,
     "metadata": {},
     "output_type": "execute_result"
    }
   ],
   "source": [
    "#Getting basic information about the dataset\n",
    "#Shows the number of rows and columns\n",
    "data.shape"
   ]
  },
  {
   "cell_type": "code",
   "execution_count": 8,
   "id": "ccf46d77",
   "metadata": {},
   "outputs": [
    {
     "data": {
      "text/plain": [
       "hotel                                  0\n",
       "is_canceled                            0\n",
       "lead_time                              0\n",
       "arrival_date_year                      0\n",
       "arrival_date_month                     0\n",
       "arrival_date_week_number               0\n",
       "arrival_date_day_of_month              0\n",
       "stays_in_weekend_nights                0\n",
       "stays_in_week_nights                   0\n",
       "adults                                 0\n",
       "children                               4\n",
       "babies                                 0\n",
       "meal                                   0\n",
       "country                              488\n",
       "market_segment                         0\n",
       "distribution_channel                   0\n",
       "is_repeated_guest                      0\n",
       "previous_cancellations                 0\n",
       "previous_bookings_not_canceled         0\n",
       "reserved_room_type                     0\n",
       "assigned_room_type                     0\n",
       "booking_changes                        0\n",
       "deposit_type                           0\n",
       "agent                              16340\n",
       "company                           112593\n",
       "days_in_waiting_list                   0\n",
       "customer_type                          0\n",
       "adr                                    0\n",
       "required_car_parking_spaces            0\n",
       "total_of_special_requests              0\n",
       "reservation_status                     0\n",
       "reservation_status_date                0\n",
       "dtype: int64"
      ]
     },
     "execution_count": 8,
     "metadata": {},
     "output_type": "execute_result"
    }
   ],
   "source": [
    "#Number of missing values for each column\n",
    "data.isnull().sum()\n",
    "\n",
    "#Observation: columns 'country', 'agent', and 'company' have a significant number of missing values\n",
    "#Based on the data visualization, I can decide if it is necessary to drop these columns"
   ]
  },
  {
   "cell_type": "code",
   "execution_count": 9,
   "id": "95b11efd",
   "metadata": {},
   "outputs": [
    {
     "data": {
      "text/plain": [
       "hotel                              object\n",
       "is_canceled                         int64\n",
       "lead_time                           int64\n",
       "arrival_date_year                   int64\n",
       "arrival_date_month                 object\n",
       "arrival_date_week_number            int64\n",
       "arrival_date_day_of_month           int64\n",
       "stays_in_weekend_nights             int64\n",
       "stays_in_week_nights                int64\n",
       "adults                              int64\n",
       "children                          float64\n",
       "babies                              int64\n",
       "meal                               object\n",
       "country                            object\n",
       "market_segment                     object\n",
       "distribution_channel               object\n",
       "is_repeated_guest                   int64\n",
       "previous_cancellations              int64\n",
       "previous_bookings_not_canceled      int64\n",
       "reserved_room_type                 object\n",
       "assigned_room_type                 object\n",
       "booking_changes                     int64\n",
       "deposit_type                       object\n",
       "agent                             float64\n",
       "company                           float64\n",
       "days_in_waiting_list                int64\n",
       "customer_type                      object\n",
       "adr                               float64\n",
       "required_car_parking_spaces         int64\n",
       "total_of_special_requests           int64\n",
       "reservation_status                 object\n",
       "reservation_status_date            object\n",
       "dtype: object"
      ]
     },
     "execution_count": 9,
     "metadata": {},
     "output_type": "execute_result"
    }
   ],
   "source": [
    "#Data type of each column\n",
    "data.dtypes"
   ]
  },
  {
   "cell_type": "markdown",
   "id": "f371e215",
   "metadata": {},
   "source": [
    "# Data Visualization"
   ]
  },
  {
   "cell_type": "markdown",
   "id": "97cfc9f0",
   "metadata": {},
   "source": [
    "I created graphs to see the distribution of some of the relevant columns to the problem of hotel concellation. "
   ]
  },
  {
   "cell_type": "code",
   "execution_count": 10,
   "id": "6fbd6c40",
   "metadata": {},
   "outputs": [
    {
     "data": {
      "text/plain": [
       "Text(0.5, 1.0, 'Lead Time')"
      ]
     },
     "execution_count": 10,
     "metadata": {},
     "output_type": "execute_result"
    },
    {
     "data": {
      "image/png": "[encoded data removed]",
      "text/plain": [
       "<Figure size 432x288 with 1 Axes>"
      ]
     },
     "metadata": {
      "needs_background": "light"
     },
     "output_type": "display_data"
    }
   ],
   "source": [
    "sns.histplot(data['lead_time'], kde=True).set_title('Lead Time')"
   ]
  },
  {
   "cell_type": "markdown",
   "id": "d0907756",
   "metadata": {},
   "source": [
    "Lead time is the time between when the hotel was booked and the arrival time. For this variable, most values are right skewed. This can be interpreted as the time between when the hotel was booked and the arrival time is most commonly low. This means most bookings are made closer to the arrival time. "
   ]
  },
  {
   "cell_type": "code",
   "execution_count": 11,
   "id": "830e69a3",
   "metadata": {},
   "outputs": [
    {
     "data": {
      "image/png": "[encoded data removed]",
      "text/plain": [
       "<Figure size 576x432 with 1 Axes>"
      ]
     },
     "metadata": {},
     "output_type": "display_data"
    }
   ],
   "source": [
    "count = data['is_canceled'].value_counts()\n",
    "\n",
    "plt.figure(figsize=(8, 6))\n",
    "plt.pie(count, labels=count.index, autopct='%1.1f%%', startangle=140)\n",
    "plt.title('Cancellation Status')\n",
    "plt.axis('equal') \n",
    "plt.show()"
   ]
  },
  {
   "cell_type": "markdown",
   "id": "1d19f080",
   "metadata": {},
   "source": [
    "The piechart shows the percentage of bookings cancelled or not. 1 indicates it was cancelled and 0 indicates it was not. So, a majority of the bookings were not cancelled."
   ]
  },
  {
   "cell_type": "code",
   "execution_count": 12,
   "id": "85a57b61",
   "metadata": {},
   "outputs": [
    {
     "data": {
      "text/plain": [
       "Text(0.5, 1.0, 'Average Daily Rate (ADR)')"
      ]
     },
     "execution_count": 12,
     "metadata": {},
     "output_type": "execute_result"
    },
    {
     "data": {
      "image/png": "[encoded data removed]",
      "text/plain": [
       "<Figure size 432x288 with 1 Axes>"
      ]
     },
     "metadata": {
      "needs_background": "light"
     },
     "output_type": "display_data"
    }
   ],
   "source": [
    "sns.histplot(data['adr'], kde=True).set_title('Average Daily Rate (ADR)')"
   ]
  },
  {
   "cell_type": "markdown",
   "id": "08aee06e",
   "metadata": {},
   "source": [
    "ADR is the average daily rate of the hotel. This variable is also right skewed, meaning the average daily rate is typically low for the hotels."
   ]
  },
  {
   "cell_type": "code",
   "execution_count": 13,
   "id": "84f67e37",
   "metadata": {},
   "outputs": [
    {
     "data": {
      "image/png": "[encoded data removed]",
      "text/plain": [
       "<Figure size 576x432 with 1 Axes>"
      ]
     },
     "metadata": {},
     "output_type": "display_data"
    }
   ],
   "source": [
    "count = data['hotel'].value_counts()\n",
    "\n",
    "plt.figure(figsize=(8, 6))\n",
    "plt.pie(count, labels=count.index, autopct='%1.1f%%', startangle=140)\n",
    "plt.title('Type of Hotel')\n",
    "plt.axis('equal') \n",
    "plt.show()"
   ]
  },
  {
   "cell_type": "markdown",
   "id": "704aed20",
   "metadata": {},
   "source": [
    "This pie chart shows the distribution of the type of hotel booked. A majority of the hotels booked are city hotels."
   ]
  },
  {
   "cell_type": "code",
   "execution_count": 14,
   "id": "55faa7b2",
   "metadata": {},
   "outputs": [
    {
     "data": {
      "text/plain": [
       "<AxesSubplot:>"
      ]
     },
     "execution_count": 14,
     "metadata": {},
     "output_type": "execute_result"
    },
    {
     "data": {
      "image/png": "[encoded data removed]",
      "text/plain": [
       "<Figure size 864x720 with 2 Axes>"
      ]
     },
     "metadata": {
      "needs_background": "light"
     },
     "output_type": "display_data"
    }
   ],
   "source": [
    "plt.figure(figsize=(12, 10))\n",
    "\n",
    "sns.heatmap(data.corr(), annot = True, fmt=\".2f\", cmap='coolwarm')"
   ]
  },
  {
   "cell_type": "markdown",
   "id": "292e1d9f",
   "metadata": {},
   "source": [
    "The heat map shows the correlation between the variables. The 1.0 red diagonal values indicate the correlation with the variable itself. Interesting observations can be made with this map that give insight into what type of relationships can be predicted with this dataset. For instance, there is a slightly higher correlation between is_canceled and lead_time, indicating that these variables may be impacting one another."
   ]
  },
  {
   "cell_type": "markdown",
   "id": "aea8fcc7",
   "metadata": {},
   "source": [
    "# Data Cleaning"
   ]
  },
  {
   "cell_type": "markdown",
   "id": "0dfafcd9",
   "metadata": {},
   "source": [
    "For the columns 'country', 'agent', and 'company' that had a significant amount of missing values:\n",
    "\n",
    "The 'country' column can be dropped as it has mostly missing values.\n",
    "The 'agent' and 'company' column can be dropped as well as they do not have a significant correlation with the 'is_canceled' feature, making it unimportant for what I am trying to predict."
   ]
  },
  {
   "cell_type": "code",
   "execution_count": 15,
   "id": "9e691615",
   "metadata": {},
   "outputs": [],
   "source": [
    "data=data.drop(['country','agent','company'],axis=1)"
   ]
  },
  {
   "cell_type": "code",
   "execution_count": 16,
   "id": "56110927",
   "metadata": {},
   "outputs": [
    {
     "data": {
      "text/plain": [
       "hotel                             0\n",
       "is_canceled                       0\n",
       "lead_time                         0\n",
       "arrival_date_year                 0\n",
       "arrival_date_month                0\n",
       "arrival_date_week_number          0\n",
       "arrival_date_day_of_month         0\n",
       "stays_in_weekend_nights           0\n",
       "stays_in_week_nights              0\n",
       "adults                            0\n",
       "children                          4\n",
       "babies                            0\n",
       "meal                              0\n",
       "market_segment                    0\n",
       "distribution_channel              0\n",
       "is_repeated_guest                 0\n",
       "previous_cancellations            0\n",
       "previous_bookings_not_canceled    0\n",
       "reserved_room_type                0\n",
       "assigned_room_type                0\n",
       "booking_changes                   0\n",
       "deposit_type                      0\n",
       "days_in_waiting_list              0\n",
       "customer_type                     0\n",
       "adr                               0\n",
       "required_car_parking_spaces       0\n",
       "total_of_special_requests         0\n",
       "reservation_status                0\n",
       "reservation_status_date           0\n",
       "dtype: int64"
      ]
     },
     "execution_count": 16,
     "metadata": {},
     "output_type": "execute_result"
    }
   ],
   "source": [
    "data.isnull().sum()"
   ]
  },
  {
   "cell_type": "markdown",
   "id": "32994c14",
   "metadata": {},
   "source": [
    "At this point, the 'children' column is the only one with missing values and we can just drop these values."
   ]
  },
  {
   "cell_type": "code",
   "execution_count": 17,
   "id": "ce4c239e",
   "metadata": {},
   "outputs": [],
   "source": [
    "data=data.dropna()"
   ]
  },
  {
   "cell_type": "code",
   "execution_count": 18,
   "id": "a1d74db5",
   "metadata": {},
   "outputs": [
    {
     "data": {
      "text/plain": [
       "hotel                             0\n",
       "is_canceled                       0\n",
       "lead_time                         0\n",
       "arrival_date_year                 0\n",
       "arrival_date_month                0\n",
       "arrival_date_week_number          0\n",
       "arrival_date_day_of_month         0\n",
       "stays_in_weekend_nights           0\n",
       "stays_in_week_nights              0\n",
       "adults                            0\n",
       "children                          0\n",
       "babies                            0\n",
       "meal                              0\n",
       "market_segment                    0\n",
       "distribution_channel              0\n",
       "is_repeated_guest                 0\n",
       "previous_cancellations            0\n",
       "previous_bookings_not_canceled    0\n",
       "reserved_room_type                0\n",
       "assigned_room_type                0\n",
       "booking_changes                   0\n",
       "deposit_type                      0\n",
       "days_in_waiting_list              0\n",
       "customer_type                     0\n",
       "adr                               0\n",
       "required_car_parking_spaces       0\n",
       "total_of_special_requests         0\n",
       "reservation_status                0\n",
       "reservation_status_date           0\n",
       "dtype: int64"
      ]
     },
     "execution_count": 18,
     "metadata": {},
     "output_type": "execute_result"
    }
   ],
   "source": [
    "data.isnull().sum()"
   ]
  },
  {
   "cell_type": "markdown",
   "id": "08a0838c",
   "metadata": {},
   "source": [
    "# Data Preprocessing"
   ]
  },
  {
   "cell_type": "code",
   "execution_count": 19,
   "id": "f14d8084",
   "metadata": {},
   "outputs": [
    {
     "data": {
      "text/plain": [
       "is_canceled                       1.000000\n",
       "lead_time                         0.293177\n",
       "total_of_special_requests         0.234706\n",
       "required_car_parking_spaces       0.195492\n",
       "booking_changes                   0.144371\n",
       "previous_cancellations            0.110140\n",
       "is_repeated_guest                 0.084788\n",
       "adults                            0.059990\n",
       "previous_bookings_not_canceled    0.057355\n",
       "days_in_waiting_list              0.054193\n",
       "adr                               0.047622\n",
       "babies                            0.032488\n",
       "stays_in_week_nights              0.024771\n",
       "arrival_date_year                 0.016732\n",
       "arrival_date_week_number          0.008132\n",
       "arrival_date_day_of_month         0.006084\n",
       "children                          0.005048\n",
       "stays_in_weekend_nights           0.001783\n",
       "Name: is_canceled, dtype: float64"
      ]
     },
     "execution_count": 19,
     "metadata": {},
     "output_type": "execute_result"
    }
   ],
   "source": [
    "#Using the correlation with the is_canceled feature to identify useful features for the model\n",
    "correlation = data.corr()['is_canceled'].abs().sort_values(ascending = False)\n",
    "correlation"
   ]
  },
  {
   "cell_type": "code",
   "execution_count": 20,
   "id": "1dd3dc0c",
   "metadata": {},
   "outputs": [
    {
     "data": {
      "text/plain": [
       "Index(['hotel', 'is_canceled', 'lead_time', 'arrival_date_year',\n",
       "       'arrival_date_month', 'arrival_date_week_number',\n",
       "       'arrival_date_day_of_month', 'stays_in_weekend_nights',\n",
       "       'stays_in_week_nights', 'adults', 'children', 'babies', 'meal',\n",
       "       'market_segment', 'distribution_channel', 'is_repeated_guest',\n",
       "       'previous_cancellations', 'previous_bookings_not_canceled',\n",
       "       'reserved_room_type', 'assigned_room_type', 'booking_changes',\n",
       "       'deposit_type', 'days_in_waiting_list', 'customer_type', 'adr',\n",
       "       'required_car_parking_spaces', 'total_of_special_requests',\n",
       "       'reservation_status', 'reservation_status_date'],\n",
       "      dtype='object')"
      ]
     },
     "execution_count": 20,
     "metadata": {},
     "output_type": "execute_result"
    }
   ],
   "source": [
    "data.columns"
   ]
  },
  {
   "cell_type": "code",
   "execution_count": 21,
   "id": "13526b02",
   "metadata": {},
   "outputs": [],
   "source": [
    "#Dropping the unnecessary columns based on correlation and logical reasoning\n",
    "drop_columns = ['stays_in_weekend_nights', 'reservation_status', 'reservation_status_date']\n",
    "\n",
    "data.drop(drop_columns, axis = 1, inplace = True)"
   ]
  },
  {
   "cell_type": "code",
   "execution_count": 22,
   "id": "13e0fff0",
   "metadata": {},
   "outputs": [
    {
     "data": {
      "text/plain": [
       "['hotel',\n",
       " 'arrival_date_month',\n",
       " 'meal',\n",
       " 'market_segment',\n",
       " 'distribution_channel',\n",
       " 'reserved_room_type',\n",
       " 'assigned_room_type',\n",
       " 'deposit_type',\n",
       " 'customer_type']"
      ]
     },
     "execution_count": 22,
     "metadata": {},
     "output_type": "execute_result"
    }
   ],
   "source": [
    "#Finding the cateogrical features to encode them\n",
    "categorical = [col for col in data.columns if data[col].dtype == 'O']\n",
    "categorical"
   ]
  },
  {
   "cell_type": "code",
   "execution_count": 23,
   "id": "c5a6dbab",
   "metadata": {},
   "outputs": [
    {
     "name": "stdout",
     "output_type": "stream",
     "text": [
      "hotel: ['Resort Hotel' 'City Hotel']\n",
      "arrival_date_month: ['July' 'August' 'September' 'October' 'November' 'December' 'January'\n",
      " 'February' 'March' 'April' 'May' 'June']\n",
      "meal: ['BB' 'FB' 'HB' 'SC' 'Undefined']\n",
      "market_segment: ['Direct' 'Corporate' 'Online TA' 'Offline TA/TO' 'Complementary' 'Groups'\n",
      " 'Aviation']\n",
      "distribution_channel: ['Direct' 'Corporate' 'TA/TO' 'Undefined' 'GDS']\n",
      "reserved_room_type: ['C' 'A' 'D' 'E' 'G' 'F' 'H' 'L' 'P' 'B']\n",
      "assigned_room_type: ['C' 'A' 'D' 'E' 'G' 'F' 'I' 'B' 'H' 'P' 'L' 'K']\n",
      "deposit_type: ['No Deposit' 'Refundable' 'Non Refund']\n",
      "customer_type: ['Transient' 'Contract' 'Transient-Party' 'Group']\n"
     ]
    }
   ],
   "source": [
    "categorical_data = data[categorical]\n",
    "#Printing unique values of each categorical column\n",
    "for col in categorical_data.columns:\n",
    "    print(f\"{col}: {categorical_data[col].unique()}\")"
   ]
  },
  {
   "cell_type": "code",
   "execution_count": 24,
   "id": "a8d475a5",
   "metadata": {},
   "outputs": [
    {
     "name": "stderr",
     "output_type": "stream",
     "text": [
      "/var/folders/6h/jvj1v_bx7kldrcbf4gl1ml7m0000gn/T/ipykernel_82975/3276513362.py:2: SettingWithCopyWarning: \n",
      "A value is trying to be set on a copy of a slice from a DataFrame.\n",
      "Try using .loc[row_indexer,col_indexer] = value instead\n",
      "\n",
      "See the caveats in the documentation: https://pandas.pydata.org/pandas-docs/stable/user_guide/indexing.html#returning-a-view-versus-a-copy\n",
      "  categorical_data['hotel'] = categorical_data['hotel'].map({'Resort Hotel' : 0, 'City Hotel' : 1})\n",
      "/var/folders/6h/jvj1v_bx7kldrcbf4gl1ml7m0000gn/T/ipykernel_82975/3276513362.py:4: SettingWithCopyWarning: \n",
      "A value is trying to be set on a copy of a slice from a DataFrame.\n",
      "Try using .loc[row_indexer,col_indexer] = value instead\n",
      "\n",
      "See the caveats in the documentation: https://pandas.pydata.org/pandas-docs/stable/user_guide/indexing.html#returning-a-view-versus-a-copy\n",
      "  categorical_data['arrival_date_month'] = categorical_data['arrival_date_month'].map({'July': 6, 'August': 7, 'September': 8, 'October':9, 'November': 10, 'December': 11, 'January': 0,\n",
      "/var/folders/6h/jvj1v_bx7kldrcbf4gl1ml7m0000gn/T/ipykernel_82975/3276513362.py:7: SettingWithCopyWarning: \n",
      "A value is trying to be set on a copy of a slice from a DataFrame.\n",
      "Try using .loc[row_indexer,col_indexer] = value instead\n",
      "\n",
      "See the caveats in the documentation: https://pandas.pydata.org/pandas-docs/stable/user_guide/indexing.html#returning-a-view-versus-a-copy\n",
      "  categorical_data['meal'] = categorical_data['meal'].map({'BB' : 0, 'FB': 1, 'HB': 2, 'SC': 3, 'Undefined': 4})\n",
      "/var/folders/6h/jvj1v_bx7kldrcbf4gl1ml7m0000gn/T/ipykernel_82975/3276513362.py:9: SettingWithCopyWarning: \n",
      "A value is trying to be set on a copy of a slice from a DataFrame.\n",
      "Try using .loc[row_indexer,col_indexer] = value instead\n",
      "\n",
      "See the caveats in the documentation: https://pandas.pydata.org/pandas-docs/stable/user_guide/indexing.html#returning-a-view-versus-a-copy\n",
      "  categorical_data['market_segment'] = categorical_data['market_segment'].map({'Direct': 0, 'Corporate': 1, 'Online TA': 2, 'Offline TA/TO': 3, 'Complementary': 4, 'Groups': 5, 'Undefined': 6, 'Aviation': 7})\n",
      "/var/folders/6h/jvj1v_bx7kldrcbf4gl1ml7m0000gn/T/ipykernel_82975/3276513362.py:11: SettingWithCopyWarning: \n",
      "A value is trying to be set on a copy of a slice from a DataFrame.\n",
      "Try using .loc[row_indexer,col_indexer] = value instead\n",
      "\n",
      "See the caveats in the documentation: https://pandas.pydata.org/pandas-docs/stable/user_guide/indexing.html#returning-a-view-versus-a-copy\n",
      "  categorical_data['distribution_channel'] = categorical_data['distribution_channel'].map({'Direct': 0, 'Corporate': 1, 'TA/TO': 2, 'Undefined': 3, 'GDS': 4})\n",
      "/var/folders/6h/jvj1v_bx7kldrcbf4gl1ml7m0000gn/T/ipykernel_82975/3276513362.py:13: SettingWithCopyWarning: \n",
      "A value is trying to be set on a copy of a slice from a DataFrame.\n",
      "Try using .loc[row_indexer,col_indexer] = value instead\n",
      "\n",
      "See the caveats in the documentation: https://pandas.pydata.org/pandas-docs/stable/user_guide/indexing.html#returning-a-view-versus-a-copy\n",
      "  categorical_data['reserved_room_type'] = categorical_data['reserved_room_type'].map({'C': 0, 'A': 1, 'D': 2, 'E': 3, 'G': 4, 'F': 5, 'H': 6, 'L': 7, 'B': 8})\n",
      "/var/folders/6h/jvj1v_bx7kldrcbf4gl1ml7m0000gn/T/ipykernel_82975/3276513362.py:15: SettingWithCopyWarning: \n",
      "A value is trying to be set on a copy of a slice from a DataFrame.\n",
      "Try using .loc[row_indexer,col_indexer] = value instead\n",
      "\n",
      "See the caveats in the documentation: https://pandas.pydata.org/pandas-docs/stable/user_guide/indexing.html#returning-a-view-versus-a-copy\n",
      "  categorical_data['assigned_room_type'] = categorical_data['assigned_room_type'].map({'C': 0, 'A': 1, 'D': 2, 'E': 3, 'G': 4, 'F': 5, 'I': 6, 'B': 7, 'H': 8, 'P': 9, 'L':10, 'K':11})\n",
      "/var/folders/6h/jvj1v_bx7kldrcbf4gl1ml7m0000gn/T/ipykernel_82975/3276513362.py:17: SettingWithCopyWarning: \n",
      "A value is trying to be set on a copy of a slice from a DataFrame.\n",
      "Try using .loc[row_indexer,col_indexer] = value instead\n",
      "\n",
      "See the caveats in the documentation: https://pandas.pydata.org/pandas-docs/stable/user_guide/indexing.html#returning-a-view-versus-a-copy\n",
      "  categorical_data['deposit_type'] = categorical_data['deposit_type'].map({'No Deposit': 0, 'Refundable': 1, 'Non Refund': 3})\n",
      "/var/folders/6h/jvj1v_bx7kldrcbf4gl1ml7m0000gn/T/ipykernel_82975/3276513362.py:19: SettingWithCopyWarning: \n",
      "A value is trying to be set on a copy of a slice from a DataFrame.\n",
      "Try using .loc[row_indexer,col_indexer] = value instead\n",
      "\n",
      "See the caveats in the documentation: https://pandas.pydata.org/pandas-docs/stable/user_guide/indexing.html#returning-a-view-versus-a-copy\n",
      "  categorical_data['customer_type'] = categorical_data['customer_type'].map({'Transient': 0, 'Contract': 1, 'Transient-Party': 2, 'Group': 3})\n"
     ]
    }
   ],
   "source": [
    "#Encoding the categorical variables\n",
    "categorical_data['hotel'] = categorical_data['hotel'].map({'Resort Hotel' : 0, 'City Hotel' : 1})\n",
    "\n",
    "categorical_data['arrival_date_month'] = categorical_data['arrival_date_month'].map({'July': 6, 'August': 7, 'September': 8, 'October':9, 'November': 10, 'December': 11, 'January': 0,\n",
    " 'February': 1, 'March': 2, 'April': 3, 'May': 4, 'June': 5})\n",
    "\n",
    "categorical_data['meal'] = categorical_data['meal'].map({'BB' : 0, 'FB': 1, 'HB': 2, 'SC': 3, 'Undefined': 4})\n",
    "\n",
    "categorical_data['market_segment'] = categorical_data['market_segment'].map({'Direct': 0, 'Corporate': 1, 'Online TA': 2, 'Offline TA/TO': 3, 'Complementary': 4, 'Groups': 5, 'Undefined': 6, 'Aviation': 7})\n",
    "\n",
    "categorical_data['distribution_channel'] = categorical_data['distribution_channel'].map({'Direct': 0, 'Corporate': 1, 'TA/TO': 2, 'Undefined': 3, 'GDS': 4})\n",
    "\n",
    "categorical_data['reserved_room_type'] = categorical_data['reserved_room_type'].map({'C': 0, 'A': 1, 'D': 2, 'E': 3, 'G': 4, 'F': 5, 'H': 6, 'L': 7, 'B': 8})\n",
    "\n",
    "categorical_data['assigned_room_type'] = categorical_data['assigned_room_type'].map({'C': 0, 'A': 1, 'D': 2, 'E': 3, 'G': 4, 'F': 5, 'I': 6, 'B': 7, 'H': 8, 'P': 9, 'L':10, 'K':11})\n",
    "\n",
    "categorical_data['deposit_type'] = categorical_data['deposit_type'].map({'No Deposit': 0, 'Refundable': 1, 'Non Refund': 3})\n",
    "\n",
    "categorical_data['customer_type'] = categorical_data['customer_type'].map({'Transient': 0, 'Contract': 1, 'Transient-Party': 2, 'Group': 3})"
   ]
  },
  {
   "cell_type": "code",
   "execution_count": 25,
   "id": "6b62f705",
   "metadata": {},
   "outputs": [
    {
     "data": {
      "text/html": [
       "<div>\n",
       "<style scoped>\n",
       "    .dataframe tbody tr th:only-of-type {\n",
       "        vertical-align: middle;\n",
       "    }\n",
       "\n",
       "    .dataframe tbody tr th {\n",
       "        vertical-align: top;\n",
       "    }\n",
       "\n",
       "    .dataframe thead th {\n",
       "        text-align: right;\n",
       "    }\n",
       "</style>\n",
       "<table border=\"1\" class=\"dataframe\">\n",
       "  <thead>\n",
       "    <tr style=\"text-align: right;\">\n",
       "      <th></th>\n",
       "      <th>hotel</th>\n",
       "      <th>arrival_date_month</th>\n",
       "      <th>meal</th>\n",
       "      <th>market_segment</th>\n",
       "      <th>distribution_channel</th>\n",
       "      <th>reserved_room_type</th>\n",
       "      <th>assigned_room_type</th>\n",
       "      <th>deposit_type</th>\n",
       "      <th>customer_type</th>\n",
       "    </tr>\n",
       "  </thead>\n",
       "  <tbody>\n",
       "    <tr>\n",
       "      <th>0</th>\n",
       "      <td>0</td>\n",
       "      <td>6</td>\n",
       "      <td>0</td>\n",
       "      <td>0</td>\n",
       "      <td>0</td>\n",
       "      <td>0.0</td>\n",
       "      <td>0</td>\n",
       "      <td>0</td>\n",
       "      <td>0</td>\n",
       "    </tr>\n",
       "    <tr>\n",
       "      <th>1</th>\n",
       "      <td>0</td>\n",
       "      <td>6</td>\n",
       "      <td>0</td>\n",
       "      <td>0</td>\n",
       "      <td>0</td>\n",
       "      <td>0.0</td>\n",
       "      <td>0</td>\n",
       "      <td>0</td>\n",
       "      <td>0</td>\n",
       "    </tr>\n",
       "    <tr>\n",
       "      <th>2</th>\n",
       "      <td>0</td>\n",
       "      <td>6</td>\n",
       "      <td>0</td>\n",
       "      <td>0</td>\n",
       "      <td>0</td>\n",
       "      <td>1.0</td>\n",
       "      <td>0</td>\n",
       "      <td>0</td>\n",
       "      <td>0</td>\n",
       "    </tr>\n",
       "    <tr>\n",
       "      <th>3</th>\n",
       "      <td>0</td>\n",
       "      <td>6</td>\n",
       "      <td>0</td>\n",
       "      <td>1</td>\n",
       "      <td>1</td>\n",
       "      <td>1.0</td>\n",
       "      <td>1</td>\n",
       "      <td>0</td>\n",
       "      <td>0</td>\n",
       "    </tr>\n",
       "    <tr>\n",
       "      <th>4</th>\n",
       "      <td>0</td>\n",
       "      <td>6</td>\n",
       "      <td>0</td>\n",
       "      <td>2</td>\n",
       "      <td>2</td>\n",
       "      <td>1.0</td>\n",
       "      <td>1</td>\n",
       "      <td>0</td>\n",
       "      <td>0</td>\n",
       "    </tr>\n",
       "  </tbody>\n",
       "</table>\n",
       "</div>"
      ],
      "text/plain": [
       "   hotel  arrival_date_month  meal  market_segment  distribution_channel  \\\n",
       "0      0                   6     0               0                     0   \n",
       "1      0                   6     0               0                     0   \n",
       "2      0                   6     0               0                     0   \n",
       "3      0                   6     0               1                     1   \n",
       "4      0                   6     0               2                     2   \n",
       "\n",
       "   reserved_room_type  assigned_room_type  deposit_type  customer_type  \n",
       "0                 0.0                   0             0              0  \n",
       "1                 0.0                   0             0              0  \n",
       "2                 1.0                   0             0              0  \n",
       "3                 1.0                   1             0              0  \n",
       "4                 1.0                   1             0              0  "
      ]
     },
     "execution_count": 25,
     "metadata": {},
     "output_type": "execute_result"
    }
   ],
   "source": [
    "categorical_data.head()"
   ]
  },
  {
   "cell_type": "code",
   "execution_count": 26,
   "id": "7448657b",
   "metadata": {},
   "outputs": [
    {
     "data": {
      "text/html": [
       "<div>\n",
       "<style scoped>\n",
       "    .dataframe tbody tr th:only-of-type {\n",
       "        vertical-align: middle;\n",
       "    }\n",
       "\n",
       "    .dataframe tbody tr th {\n",
       "        vertical-align: top;\n",
       "    }\n",
       "\n",
       "    .dataframe thead th {\n",
       "        text-align: right;\n",
       "    }\n",
       "</style>\n",
       "<table border=\"1\" class=\"dataframe\">\n",
       "  <thead>\n",
       "    <tr style=\"text-align: right;\">\n",
       "      <th></th>\n",
       "      <th>lead_time</th>\n",
       "      <th>arrival_date_year</th>\n",
       "      <th>arrival_date_week_number</th>\n",
       "      <th>arrival_date_day_of_month</th>\n",
       "      <th>stays_in_week_nights</th>\n",
       "      <th>adults</th>\n",
       "      <th>children</th>\n",
       "      <th>babies</th>\n",
       "      <th>is_repeated_guest</th>\n",
       "      <th>previous_cancellations</th>\n",
       "      <th>previous_bookings_not_canceled</th>\n",
       "      <th>booking_changes</th>\n",
       "      <th>days_in_waiting_list</th>\n",
       "      <th>adr</th>\n",
       "      <th>required_car_parking_spaces</th>\n",
       "      <th>total_of_special_requests</th>\n",
       "    </tr>\n",
       "  </thead>\n",
       "  <tbody>\n",
       "    <tr>\n",
       "      <th>0</th>\n",
       "      <td>342</td>\n",
       "      <td>2015</td>\n",
       "      <td>27</td>\n",
       "      <td>1</td>\n",
       "      <td>0</td>\n",
       "      <td>2</td>\n",
       "      <td>0.0</td>\n",
       "      <td>0</td>\n",
       "      <td>0</td>\n",
       "      <td>0</td>\n",
       "      <td>0</td>\n",
       "      <td>3</td>\n",
       "      <td>0</td>\n",
       "      <td>0.00</td>\n",
       "      <td>0</td>\n",
       "      <td>0</td>\n",
       "    </tr>\n",
       "    <tr>\n",
       "      <th>1</th>\n",
       "      <td>737</td>\n",
       "      <td>2015</td>\n",
       "      <td>27</td>\n",
       "      <td>1</td>\n",
       "      <td>0</td>\n",
       "      <td>2</td>\n",
       "      <td>0.0</td>\n",
       "      <td>0</td>\n",
       "      <td>0</td>\n",
       "      <td>0</td>\n",
       "      <td>0</td>\n",
       "      <td>4</td>\n",
       "      <td>0</td>\n",
       "      <td>0.00</td>\n",
       "      <td>0</td>\n",
       "      <td>0</td>\n",
       "    </tr>\n",
       "    <tr>\n",
       "      <th>2</th>\n",
       "      <td>7</td>\n",
       "      <td>2015</td>\n",
       "      <td>27</td>\n",
       "      <td>1</td>\n",
       "      <td>1</td>\n",
       "      <td>1</td>\n",
       "      <td>0.0</td>\n",
       "      <td>0</td>\n",
       "      <td>0</td>\n",
       "      <td>0</td>\n",
       "      <td>0</td>\n",
       "      <td>0</td>\n",
       "      <td>0</td>\n",
       "      <td>75.00</td>\n",
       "      <td>0</td>\n",
       "      <td>0</td>\n",
       "    </tr>\n",
       "    <tr>\n",
       "      <th>3</th>\n",
       "      <td>13</td>\n",
       "      <td>2015</td>\n",
       "      <td>27</td>\n",
       "      <td>1</td>\n",
       "      <td>1</td>\n",
       "      <td>1</td>\n",
       "      <td>0.0</td>\n",
       "      <td>0</td>\n",
       "      <td>0</td>\n",
       "      <td>0</td>\n",
       "      <td>0</td>\n",
       "      <td>0</td>\n",
       "      <td>0</td>\n",
       "      <td>75.00</td>\n",
       "      <td>0</td>\n",
       "      <td>0</td>\n",
       "    </tr>\n",
       "    <tr>\n",
       "      <th>4</th>\n",
       "      <td>14</td>\n",
       "      <td>2015</td>\n",
       "      <td>27</td>\n",
       "      <td>1</td>\n",
       "      <td>2</td>\n",
       "      <td>2</td>\n",
       "      <td>0.0</td>\n",
       "      <td>0</td>\n",
       "      <td>0</td>\n",
       "      <td>0</td>\n",
       "      <td>0</td>\n",
       "      <td>0</td>\n",
       "      <td>0</td>\n",
       "      <td>98.00</td>\n",
       "      <td>0</td>\n",
       "      <td>1</td>\n",
       "    </tr>\n",
       "    <tr>\n",
       "      <th>...</th>\n",
       "      <td>...</td>\n",
       "      <td>...</td>\n",
       "      <td>...</td>\n",
       "      <td>...</td>\n",
       "      <td>...</td>\n",
       "      <td>...</td>\n",
       "      <td>...</td>\n",
       "      <td>...</td>\n",
       "      <td>...</td>\n",
       "      <td>...</td>\n",
       "      <td>...</td>\n",
       "      <td>...</td>\n",
       "      <td>...</td>\n",
       "      <td>...</td>\n",
       "      <td>...</td>\n",
       "      <td>...</td>\n",
       "    </tr>\n",
       "    <tr>\n",
       "      <th>119385</th>\n",
       "      <td>23</td>\n",
       "      <td>2017</td>\n",
       "      <td>35</td>\n",
       "      <td>30</td>\n",
       "      <td>5</td>\n",
       "      <td>2</td>\n",
       "      <td>0.0</td>\n",
       "      <td>0</td>\n",
       "      <td>0</td>\n",
       "      <td>0</td>\n",
       "      <td>0</td>\n",
       "      <td>0</td>\n",
       "      <td>0</td>\n",
       "      <td>96.14</td>\n",
       "      <td>0</td>\n",
       "      <td>0</td>\n",
       "    </tr>\n",
       "    <tr>\n",
       "      <th>119386</th>\n",
       "      <td>102</td>\n",
       "      <td>2017</td>\n",
       "      <td>35</td>\n",
       "      <td>31</td>\n",
       "      <td>5</td>\n",
       "      <td>3</td>\n",
       "      <td>0.0</td>\n",
       "      <td>0</td>\n",
       "      <td>0</td>\n",
       "      <td>0</td>\n",
       "      <td>0</td>\n",
       "      <td>0</td>\n",
       "      <td>0</td>\n",
       "      <td>225.43</td>\n",
       "      <td>0</td>\n",
       "      <td>2</td>\n",
       "    </tr>\n",
       "    <tr>\n",
       "      <th>119387</th>\n",
       "      <td>34</td>\n",
       "      <td>2017</td>\n",
       "      <td>35</td>\n",
       "      <td>31</td>\n",
       "      <td>5</td>\n",
       "      <td>2</td>\n",
       "      <td>0.0</td>\n",
       "      <td>0</td>\n",
       "      <td>0</td>\n",
       "      <td>0</td>\n",
       "      <td>0</td>\n",
       "      <td>0</td>\n",
       "      <td>0</td>\n",
       "      <td>157.71</td>\n",
       "      <td>0</td>\n",
       "      <td>4</td>\n",
       "    </tr>\n",
       "    <tr>\n",
       "      <th>119388</th>\n",
       "      <td>109</td>\n",
       "      <td>2017</td>\n",
       "      <td>35</td>\n",
       "      <td>31</td>\n",
       "      <td>5</td>\n",
       "      <td>2</td>\n",
       "      <td>0.0</td>\n",
       "      <td>0</td>\n",
       "      <td>0</td>\n",
       "      <td>0</td>\n",
       "      <td>0</td>\n",
       "      <td>0</td>\n",
       "      <td>0</td>\n",
       "      <td>104.40</td>\n",
       "      <td>0</td>\n",
       "      <td>0</td>\n",
       "    </tr>\n",
       "    <tr>\n",
       "      <th>119389</th>\n",
       "      <td>205</td>\n",
       "      <td>2017</td>\n",
       "      <td>35</td>\n",
       "      <td>29</td>\n",
       "      <td>7</td>\n",
       "      <td>2</td>\n",
       "      <td>0.0</td>\n",
       "      <td>0</td>\n",
       "      <td>0</td>\n",
       "      <td>0</td>\n",
       "      <td>0</td>\n",
       "      <td>0</td>\n",
       "      <td>0</td>\n",
       "      <td>151.20</td>\n",
       "      <td>0</td>\n",
       "      <td>2</td>\n",
       "    </tr>\n",
       "  </tbody>\n",
       "</table>\n",
       "<p>119386 rows × 16 columns</p>\n",
       "</div>"
      ],
      "text/plain": [
       "        lead_time  arrival_date_year  arrival_date_week_number  \\\n",
       "0             342               2015                        27   \n",
       "1             737               2015                        27   \n",
       "2               7               2015                        27   \n",
       "3              13               2015                        27   \n",
       "4              14               2015                        27   \n",
       "...           ...                ...                       ...   \n",
       "119385         23               2017                        35   \n",
       "119386        102               2017                        35   \n",
       "119387         34               2017                        35   \n",
       "119388        109               2017                        35   \n",
       "119389        205               2017                        35   \n",
       "\n",
       "        arrival_date_day_of_month  stays_in_week_nights  adults  children  \\\n",
       "0                               1                     0       2       0.0   \n",
       "1                               1                     0       2       0.0   \n",
       "2                               1                     1       1       0.0   \n",
       "3                               1                     1       1       0.0   \n",
       "4                               1                     2       2       0.0   \n",
       "...                           ...                   ...     ...       ...   \n",
       "119385                         30                     5       2       0.0   \n",
       "119386                         31                     5       3       0.0   \n",
       "119387                         31                     5       2       0.0   \n",
       "119388                         31                     5       2       0.0   \n",
       "119389                         29                     7       2       0.0   \n",
       "\n",
       "        babies  is_repeated_guest  previous_cancellations  \\\n",
       "0            0                  0                       0   \n",
       "1            0                  0                       0   \n",
       "2            0                  0                       0   \n",
       "3            0                  0                       0   \n",
       "4            0                  0                       0   \n",
       "...        ...                ...                     ...   \n",
       "119385       0                  0                       0   \n",
       "119386       0                  0                       0   \n",
       "119387       0                  0                       0   \n",
       "119388       0                  0                       0   \n",
       "119389       0                  0                       0   \n",
       "\n",
       "        previous_bookings_not_canceled  booking_changes  days_in_waiting_list  \\\n",
       "0                                    0                3                     0   \n",
       "1                                    0                4                     0   \n",
       "2                                    0                0                     0   \n",
       "3                                    0                0                     0   \n",
       "4                                    0                0                     0   \n",
       "...                                ...              ...                   ...   \n",
       "119385                               0                0                     0   \n",
       "119386                               0                0                     0   \n",
       "119387                               0                0                     0   \n",
       "119388                               0                0                     0   \n",
       "119389                               0                0                     0   \n",
       "\n",
       "           adr  required_car_parking_spaces  total_of_special_requests  \n",
       "0         0.00                            0                          0  \n",
       "1         0.00                            0                          0  \n",
       "2        75.00                            0                          0  \n",
       "3        75.00                            0                          0  \n",
       "4        98.00                            0                          1  \n",
       "...        ...                          ...                        ...  \n",
       "119385   96.14                            0                          0  \n",
       "119386  225.43                            0                          2  \n",
       "119387  157.71                            0                          4  \n",
       "119388  104.40                            0                          0  \n",
       "119389  151.20                            0                          2  \n",
       "\n",
       "[119386 rows x 16 columns]"
      ]
     },
     "execution_count": 26,
     "metadata": {},
     "output_type": "execute_result"
    }
   ],
   "source": [
    "#Finding the numerical data features\n",
    "numerical_data = data.drop(columns = categorical, axis = 1)\n",
    "numerical_data.drop('is_canceled', axis = 1, inplace = True)\n",
    "numerical_data"
   ]
  },
  {
   "cell_type": "code",
   "execution_count": 27,
   "id": "39c6dd67",
   "metadata": {},
   "outputs": [
    {
     "data": {
      "text/plain": [
       "lead_time                         11419.761970\n",
       "arrival_date_year                     0.500494\n",
       "arrival_date_week_number            185.105119\n",
       "arrival_date_day_of_month            77.102158\n",
       "stays_in_week_nights                  3.641567\n",
       "adults                                0.335543\n",
       "children                              0.158851\n",
       "babies                                0.009494\n",
       "is_repeated_guest                     0.030895\n",
       "previous_cancellations                0.712928\n",
       "previous_bookings_not_canceled        2.242392\n",
       "booking_changes                       0.425515\n",
       "days_in_waiting_list                309.584395\n",
       "adr                                2553.752234\n",
       "required_car_parking_spaces           0.060170\n",
       "total_of_special_requests             0.628529\n",
       "dtype: float64"
      ]
     },
     "execution_count": 27,
     "metadata": {},
     "output_type": "execute_result"
    }
   ],
   "source": [
    "numerical_data.var()"
   ]
  },
  {
   "cell_type": "code",
   "execution_count": 28,
   "id": "aa199d0b",
   "metadata": {},
   "outputs": [
    {
     "name": "stderr",
     "output_type": "stream",
     "text": [
      "/Users/arthi/opt/anaconda3/lib/python3.9/site-packages/pandas/core/arraylike.py:397: RuntimeWarning: invalid value encountered in log\n",
      "  result = getattr(ufunc, method)(*inputs, **kwargs)\n"
     ]
    }
   ],
   "source": [
    "#Normalizing the numerical data values\n",
    "numerical_data['lead_time'] = np.log(numerical_data['lead_time'] + 1)\n",
    "numerical_data['arrival_date_year'] = np.log(numerical_data['arrival_date_year'] + 1)\n",
    "numerical_data['arrival_date_week_number'] = np.log(numerical_data['arrival_date_week_number'] + 1)\n",
    "numerical_data['arrival_date_day_of_month'] = np.log(numerical_data['arrival_date_day_of_month'] + 1)\n",
    "numerical_data['stays_in_week_nights'] = np.log(numerical_data['stays_in_week_nights'] + 1)\n",
    "numerical_data['adults'] = np.log(numerical_data['adults'] + 1)\n",
    "numerical_data['children'] = np.log(numerical_data['children'] + 1)\n",
    "numerical_data['babies'] = np.log(numerical_data['babies'] + 1)\n",
    "numerical_data['is_repeated_guest'] = np.log(numerical_data['is_repeated_guest'] + 1)\n",
    "numerical_data['previous_cancellations'] = np.log(numerical_data['previous_cancellations'] + 1)\n",
    "numerical_data['previous_bookings_not_canceled'] = np.log(numerical_data['previous_bookings_not_canceled'] + 1)\n",
    "numerical_data['booking_changes'] = np.log(numerical_data['booking_changes'] + 1)\n",
    "numerical_data['days_in_waiting_list'] = np.log(numerical_data['days_in_waiting_list'] + 1)\n",
    "numerical_data['adr'] = np.log(numerical_data['adr'] + 1)\n",
    "numerical_data['required_car_parking_spaces'] = np.log(numerical_data['required_car_parking_spaces'] + 1)\n",
    "numerical_data['total_of_special_requests'] = np.log(numerical_data['total_of_special_requests'] + 1)"
   ]
  },
  {
   "cell_type": "code",
   "execution_count": 29,
   "id": "3c23a5d8",
   "metadata": {},
   "outputs": [
    {
     "data": {
      "text/plain": [
       "lead_time                         2.591255e+00\n",
       "arrival_date_year                 1.230142e-07\n",
       "arrival_date_week_number          4.410499e-01\n",
       "arrival_date_day_of_month         5.062597e-01\n",
       "stays_in_week_nights              2.505266e-01\n",
       "adults                            3.637708e-02\n",
       "children                          5.381960e-02\n",
       "babies                            3.836989e-03\n",
       "is_repeated_guest                 1.484364e-02\n",
       "previous_cancellations            4.027672e-02\n",
       "previous_bookings_not_canceled    6.884954e-02\n",
       "booking_changes                   1.051405e-01\n",
       "days_in_waiting_list              5.039830e-01\n",
       "adr                               5.402896e-01\n",
       "required_car_parking_spaces       2.825861e-02\n",
       "total_of_special_requests         1.934577e-01\n",
       "dtype: float64"
      ]
     },
     "execution_count": 29,
     "metadata": {},
     "output_type": "execute_result"
    }
   ],
   "source": [
    "numerical_data.var()"
   ]
  },
  {
   "cell_type": "markdown",
   "id": "67cc125d",
   "metadata": {},
   "source": [
    "*NOTE*\n",
    "My implementation was not working with the entire dataset of over 100,000 rows. I was getting 'Nan' values for the weights. I did a lot of experimenting and the best solution was to take a random sample of the dataset of 900 rows. Any more rows was not compatible either."
   ]
  },
  {
   "cell_type": "code",
   "execution_count": 30,
   "id": "1ff07650",
   "metadata": {},
   "outputs": [],
   "source": [
    "#Creating anew data frame with the encoded cateogrical data and the normalized numerical data\n",
    "new_data = pd.concat([categorical_data, numerical_data], axis = 1)\n",
    "new_data['is_canceled'] = data['is_canceled']\n",
    "#Taking the sample data\n",
    "sample_data = new_data.sample(n=900)"
   ]
  },
  {
   "cell_type": "code",
   "execution_count": 31,
   "id": "2e2f770c",
   "metadata": {},
   "outputs": [],
   "source": [
    "#Initializing X and y\n",
    "X = sample_data.drop('is_canceled', axis=1).values\n",
    "y = sample_data['is_canceled'].values"
   ]
  },
  {
   "cell_type": "code",
   "execution_count": 32,
   "id": "aaf9f095",
   "metadata": {},
   "outputs": [
    {
     "data": {
      "text/plain": [
       "((900, 25), (900,))"
      ]
     },
     "execution_count": 32,
     "metadata": {},
     "output_type": "execute_result"
    }
   ],
   "source": [
    "X.shape, y.shape"
   ]
  },
  {
   "cell_type": "code",
   "execution_count": 33,
   "id": "9da85dd1",
   "metadata": {},
   "outputs": [],
   "source": [
    "#Adding a column of ones to the features for the intercept\n",
    "X = np.hstack([np.ones((X.shape[0], 1)), X])\n",
    "#Train 80% and Test 20%\n",
    "X_train, X_test, y_train, y_test = train_test_split(X, y, test_size = 0.2)"
   ]
  },
  {
   "cell_type": "code",
   "execution_count": 34,
   "id": "490d5984",
   "metadata": {},
   "outputs": [
    {
     "data": {
      "text/plain": [
       "((720, 26), (180, 26), (720,), (180,))"
      ]
     },
     "execution_count": 34,
     "metadata": {},
     "output_type": "execute_result"
    }
   ],
   "source": [
    "X_train.shape, X_test.shape, y_train.shape, y_test.shape"
   ]
  },
  {
   "cell_type": "markdown",
   "id": "1840e7b5",
   "metadata": {},
   "source": [
    "# Task 3"
   ]
  },
  {
   "cell_type": "markdown",
   "id": "bc220575",
   "metadata": {},
   "source": [
    "For my cost function, I am using the binary-cross entropy function. \n",
    "\n",
    "-$\\frac{1}{N}$ $\\sum_{i=1}^{N}$ \\[ $y_{i}$ $\\times$ $\\log$(p($y_{i}$)) + (1 - $y_{i}$) $\\times$ $\\log$(1 - p($y_{i}$)\\]\n",
    "\n",
    "The derivative of this function is\n",
    "\n",
    "-$\\frac{y_{i}}{p(y_{i})}$ +  $\\frac{1 - y_{i}}{1 - p(y_{i})}$"
   ]
  },
  {
   "cell_type": "markdown",
   "id": "1df99d79",
   "metadata": {},
   "source": [
    "# Implementation"
   ]
  },
  {
   "cell_type": "code",
   "execution_count": 35,
   "id": "2beef0f9",
   "metadata": {},
   "outputs": [],
   "source": [
    "#Logistic Sigmoid function\n",
    "def sigmoid_function(z):\n",
    "    return 1 / (1 + np.exp(-z))"
   ]
  },
  {
   "cell_type": "code",
   "execution_count": 36,
   "id": "30a1b982",
   "metadata": {},
   "outputs": [],
   "source": [
    "#Cost function\n",
    "def cost_function(X, y, weights):\n",
    "    #num of training examples\n",
    "    m = len(y)\n",
    "    #predicted probabilities\n",
    "    p = sigmoid_function(np.dot(X, weights))\n",
    "    #value to prevent log(0) from happening\n",
    "    epsilon = 1e-5\n",
    "    #using the cost formula defined above\n",
    "    cost = -1/m * np.sum(y * np.log(p + epsilon) + (1 - y) * np.log(1 - p + epsilon))\n",
    "    return cost"
   ]
  },
  {
   "cell_type": "markdown",
   "id": "d65e3094",
   "metadata": {},
   "source": [
    "I am implementing Batch Gradient Descent and Stochastic Gradient Descent."
   ]
  },
  {
   "cell_type": "code",
   "execution_count": 37,
   "id": "a660570a",
   "metadata": {},
   "outputs": [],
   "source": [
    "#Batch Gradient Descent Function\n",
    "def batch_gradient_descent(X, y, learning_rate, epochs):\n",
    "    #num of samples, num of features\n",
    "    m, n = X.shape\n",
    "    #initializing weights\n",
    "    weights = np.zeros(n)\n",
    "    #storing cost at each epoch\n",
    "    cost_history = np.zeros(epochs)\n",
    "\n",
    "    for i in range(epochs):\n",
    "        predictions = sigmoid_function(np.dot(X, weights))\n",
    "        #updating weights based on the gradient of cost funciton\n",
    "        weights -= learning_rate * (1/m) * np.dot(X.T, (predictions - y))\n",
    "        #update the cost\n",
    "        cost_history[i] = cost_function(X, y, weights)\n",
    "\n",
    "    return weights"
   ]
  },
  {
   "cell_type": "code",
   "execution_count": 38,
   "id": "3daae928",
   "metadata": {},
   "outputs": [],
   "source": [
    "#Stochastic Gradient Descent Function\n",
    "def stochastic_gradient_descent(X, y, learning_rate, epochs):\n",
    "    #num of samples, num of features\n",
    "    m, n = X.shape\n",
    "    #initializing weights\n",
    "    weights = np.zeros(n)\n",
    "    #storing cost at each epoch\n",
    "    cost_history = np.zeros(epochs)\n",
    "\n",
    "    for i in range(epochs):\n",
    "        for j in range(m):\n",
    "            #randomly picking an index\n",
    "            index = np.random.randint(m)\n",
    "            #selecting the training value at that index\n",
    "            Xi = X[index, :].reshape(1, -1)\n",
    "            #selecting the label\n",
    "            yi = y[index].reshape(-1)\n",
    "            predictions = sigmoid_function(np.dot(Xi, weights))\n",
    "            #updating weights based on the chosen value\n",
    "            weights -= learning_rate * np.dot(Xi.T, (predictions - yi))\n",
    "        #update the cost\n",
    "        cost_history[i] = cost_function(X, y, weights)\n",
    "\n",
    "    return weights"
   ]
  },
  {
   "cell_type": "code",
   "execution_count": 39,
   "id": "d313d323",
   "metadata": {},
   "outputs": [
    {
     "data": {
      "text/plain": [
       "(array([-0.04971985,  0.11349126,  0.02832415, -0.01494235,  0.0902582 ,\n",
       "         0.22029711,  0.16891002, -0.10645901,  0.73880954, -0.4245667 ,\n",
       "         0.40152071, -0.37836358, -0.08371135, -0.0396352 , -0.02407896,\n",
       "        -0.05271081,  0.05925137, -0.01467929,  0.00133628,  0.11576668,\n",
       "        -0.01756508, -0.164277  ,  0.00569672,  0.07203714, -0.1091729 ,\n",
       "        -0.2810947 ]),\n",
       " array([-0.10537569,  0.2285523 ,  0.02697294,  0.03030647, -0.34359253,\n",
       "         1.45446862,  0.67044052, -0.44415889,  3.0351411 , -0.59091484,\n",
       "         0.66559796, -0.81735564, -0.22425809,  0.37792014, -0.22356471,\n",
       "        -1.24551356,  0.48929444, -2.35794962,  0.35861091,  9.52480536,\n",
       "        -1.52109528, -0.93050283, -0.27299431,  0.74866246, -7.47247998,\n",
       "        -1.38539207]))"
      ]
     },
     "execution_count": 39,
     "metadata": {},
     "output_type": "execute_result"
    }
   ],
   "source": [
    "#Parameters for gradient descent\n",
    "learning_rate = 0.01\n",
    "epochs = 1000\n",
    "\n",
    "#Implementing Batch Gradient Descent\n",
    "weights_bgd = batch_gradient_descent(X_train, y_train, learning_rate, epochs)\n",
    "\n",
    "#Implementing Stochastic Gradient Descent\n",
    "weights_sgd = stochastic_gradient_descent(X_train, y_train, learning_rate, epochs)\n",
    "\n",
    "weights_bgd, weights_sgd"
   ]
  },
  {
   "cell_type": "markdown",
   "id": "515a0d7b",
   "metadata": {},
   "source": [
    "# Task 4"
   ]
  },
  {
   "cell_type": "markdown",
   "id": "c6ad123d",
   "metadata": {},
   "source": [
    "The two optimization functions I chose are momentum and Adam."
   ]
  },
  {
   "cell_type": "markdown",
   "id": "22340590",
   "metadata": {},
   "source": [
    "# Implementation"
   ]
  },
  {
   "cell_type": "code",
   "execution_count": 40,
   "id": "0ef68b26",
   "metadata": {},
   "outputs": [],
   "source": [
    "#Momentum Gradient Descent\n",
    "def momentum_gradient_descent(X, y, learning_rate, epochs, beta = 0.9):\n",
    "    #num of samples, num of features\n",
    "    m, n = X.shape\n",
    "    #initializing weights and velocity to zeros\n",
    "    weights = np.zeros(n)\n",
    "    velocity = np.zeros(n)\n",
    "    cost_history = np.zeros(epochs)\n",
    "\n",
    "    for i in range(epochs):\n",
    "        predictions = sigmoid_function(np.dot(X, weights))\n",
    "        gradient = (1/m) * np.dot(X.T, (predictions - y))\n",
    "        #updating veloicty value\n",
    "        velocity = (1 - beta) * gradient + beta * velocity\n",
    "        #updating weights and cost\n",
    "        weights -= learning_rate * velocity\n",
    "        cost_history[i] = cost_function(X, y, weights)\n",
    "\n",
    "    return weights"
   ]
  },
  {
   "cell_type": "code",
   "execution_count": 41,
   "id": "4b518230",
   "metadata": {},
   "outputs": [],
   "source": [
    "#Adam Gradient Descent\n",
    "def adam_gradient_descent(X, y, learning_rate, epochs, beta1 = 0.9, beta2 = 0.999):\n",
    "    #num of samples, num of features\n",
    "    m, n = X.shape\n",
    "    #initializing weights and velocity to zeros\n",
    "    weights = np.zeros(n)\n",
    "    #initializing both vectors\n",
    "    v1 = np.zeros(n)\n",
    "    v2 = np.zeros(n)\n",
    "    cost_history = np.zeros(epochs)\n",
    "    epsilon = 1e-8\n",
    "\n",
    "    for i in range(epochs):\n",
    "        predictions = sigmoid_function(np.dot(X, weights))\n",
    "        gradient = (1/m) * np.dot(X.T, (predictions - y))\n",
    "        #updated first moment estimate\n",
    "        v1 = beta1 * v1 + (1 - beta1) * gradient\n",
    "        #updated second moment estimate\n",
    "        v2 = beta2 * v2 + (1 - beta2) * (gradient ** 2)\n",
    "        #bias-corrected first moment estimate\n",
    "        v1_hat = v1 / (1 - beta1 ** (i + 1))\n",
    "        #bias-corrected second moment estimate\n",
    "        v2_hat = v2 / (1 - beta2 ** (i + 1))\n",
    "        #updating weights and cost\n",
    "        weights -= learning_rate * v1_hat / (np.sqrt(v2_hat) + epsilon)\n",
    "        cost_history[i] = cost_function(X, y, weights)\n",
    "\n",
    "    return weights"
   ]
  },
  {
   "cell_type": "code",
   "execution_count": 43,
   "id": "57bbaafb",
   "metadata": {},
   "outputs": [
    {
     "data": {
      "text/plain": [
       "(array([-0.04977141,  0.11329868,  0.02841415, -0.01502164,  0.09046711,\n",
       "         0.21967984,  0.16895918, -0.10607282,  0.74066662, -0.42604083,\n",
       "         0.40268672, -0.37875563, -0.08381828, -0.04036765, -0.0238603 ,\n",
       "        -0.05239533,  0.05899501, -0.01458817,  0.00112326,  0.11502268,\n",
       "        -0.01782774, -0.1637825 ,  0.00617923,  0.07181989, -0.10841071,\n",
       "        -0.27983738]),\n",
       " array([-0.62897204,  0.05959388,  0.09298815, -0.011839  , -0.26601356,\n",
       "         1.16123954,  0.50305708, -0.35610215,  1.78921007, -0.5279943 ,\n",
       "         0.50798753, -0.62930774, -0.27709588,  0.22585548, -0.15741458,\n",
       "        -0.97361888,  0.38423422, -3.62603196,  0.76903431,  4.94485631,\n",
       "        -0.79611097, -0.73045276, -0.14480564,  0.54700103, -4.52505535,\n",
       "        -1.28081815]))"
      ]
     },
     "execution_count": 43,
     "metadata": {},
     "output_type": "execute_result"
    }
   ],
   "source": [
    "#Parameters\n",
    "learning_rate = 0.01\n",
    "epochs = 1000\n",
    "\n",
    "#Implementing momentum\n",
    "weights_momentum = momentum_gradient_descent(X_train, y_train, learning_rate, epochs, beta = 0.9)\n",
    "\n",
    "#Implementing Adam\n",
    "weights_adam = adam_gradient_descent(X_train, y_train, learning_rate, epochs, beta1=0.9, beta2=0.999)\n",
    "\n",
    "weights_momentum, weights_adam"
   ]
  },
  {
   "cell_type": "markdown",
   "id": "07a502e2",
   "metadata": {},
   "source": [
    "# Evaluation Metrics"
   ]
  },
  {
   "cell_type": "markdown",
   "id": "9f1e823a",
   "metadata": {},
   "source": [
    "I am using the accuracy and log loss metric to evaluate the models. Accuracy is straight forward providing the ratio of correct predictions. Log loss is used to measure the performance of a classification model where the probability value is between 0 and 1."
   ]
  },
  {
   "cell_type": "code",
   "execution_count": 44,
   "id": "61428f7d",
   "metadata": {},
   "outputs": [
    {
     "name": "stdout",
     "output_type": "stream",
     "text": [
      "Batch Gradient Descent Accuracy: 0.7722222222222223\n",
      "Batch Gradient Descent Log Loss: 0.489199741640966\n",
      "Stochastic Gradient Descent Accuracy: 0.7666666666666667\n",
      "Stochastic Gradient Descent Log Loss: 0.4925708028465831\n",
      "Momentum Optimization Accuracy: 0.7722222222222223\n",
      "Momentum Optimization Log Loss: 0.4893248461635654\n",
      "Adam Optimization Accuracy: 0.8055555555555556\n",
      "Adam Optimization Log Loss: 0.44629745162308515\n"
     ]
    }
   ],
   "source": [
    "#Calculating all the probabilities using the sigmoid function and the X_test values and corresponding weights\n",
    "probabilities_bgd = sigmoid_function(np.dot(X_test, weights_bgd))\n",
    "probabilities_sgd = sigmoid_function(np.dot(X_test, weights_sgd))\n",
    "probabilities_momentum = sigmoid_function(np.dot(X_test, weights_momentum))\n",
    "probabilities_adam = sigmoid_function(np.dot(X_test, weights_adam))\n",
    "\n",
    "#Converting probabilities to 0 or 1\n",
    "predictions_bgd = np.where(probabilities_bgd >= 0.5, 1, 0)\n",
    "predictions_sgd = np.where(probabilities_sgd >= 0.5, 1, 0)\n",
    "predictions_momentum = np.where(probabilities_momentum >= 0.5, 1, 0)\n",
    "predictions_adam = np.where(probabilities_adam >= 0.5, 1, 0)\n",
    "\n",
    "#Calculating accuracy and log loss metric\n",
    "accuracy_bgd = accuracy_score(y_test, predictions_bgd)\n",
    "logloss_bgd = log_loss(y_test, probabilities_bgd) \n",
    "\n",
    "accuracy_sgd = accuracy_score(y_test, predictions_sgd)\n",
    "logloss_sgd = log_loss(y_test, probabilities_sgd) \n",
    "\n",
    "accuracy_momentum = accuracy_score(y_test, predictions_momentum)\n",
    "logloss_momentum = log_loss(y_test, probabilities_momentum) \n",
    "\n",
    "accuracy_adam = accuracy_score(y_test, predictions_adam)\n",
    "logloss_adam = log_loss(y_test, probabilities_adam) \n",
    "\n",
    "print(f\"Batch Gradient Descent Accuracy: {accuracy_bgd}\")\n",
    "print(f\"Batch Gradient Descent Log Loss: {logloss_bgd}\")\n",
    "\n",
    "print(f\"Stochastic Gradient Descent Accuracy: {accuracy_sgd}\")\n",
    "print(f\"Stochastic Gradient Descent Log Loss: {logloss_sgd}\")\n",
    "\n",
    "print(f\"Momentum Optimization Accuracy: {accuracy_momentum}\")\n",
    "print(f\"Momentum Optimization Log Loss: {logloss_momentum}\")\n",
    "\n",
    "print(f\"Adam Optimization Accuracy: {accuracy_adam}\")\n",
    "print(f\"Adam Optimization Log Loss: {logloss_adam}\")"
   ]
  },
  {
   "cell_type": "markdown",
   "id": "764e53df",
   "metadata": {},
   "source": [
    "# Conclusion"
   ]
  },
  {
   "cell_type": "markdown",
   "id": "bfcee1d2",
   "metadata": {},
   "source": [
    "Batch Gradient Descent: \n",
    "- Learning Rate: 0.01\n",
    "- Epoch: 1000\n",
    "- Accuracy: 0.772\n",
    "- Log Loss: 0.489\n",
    "\n",
    "The weights for this model were relatively small, meaning that the update during each iteration was small. \n",
    "\n",
    "Stochastic Gradient Descent:\n",
    "- Learning Rate: 0.01\n",
    "- Epoch: 1000\n",
    "- Accuracy: 0.767\n",
    "- Log Loss: 0.493\n",
    "\n",
    "The weights for this model varied greatly amongst themselves. This is due to the fact that the weights are updated much more frequently in this model. SGD performs a bit worse than BGD as it has a lower accuracy rate and a higher log loss value.\n",
    "\n",
    "Gradient Descent with Momentum Optimization:\n",
    "- Learning Rate: 0.01\n",
    "- Epoch: 1000\n",
    "- Accuracy: 0.772\n",
    "- Log Loss: 0.489\n",
    "\n",
    "The weights and the evaluation metrics are very similar to the original batch gradient descent. This means adding the momentum did not improve the model much.\n",
    "\n",
    "Gradient Descent with Adam Optimization:\n",
    "- Learning Rate: 0.01\n",
    "- Epoch: 1000\n",
    "- Accuracy: 0.806\n",
    "- Log Loss: 0.446\n",
    "\n",
    "The weights for this model differed the most. Since the learning rate is adjusted for each weight, the values fluctuate a lot more. The nature of Adam algorithm made it the best model with the highest accuracy and lowest log loss value.\n",
    "\n",
    "For this specific problem, using the Adam optimization function with Batch Gradient Descent provided the most accuracy in the results and the most confidence in the predictions. Combining momentum with the adaptive learning rates has helped this model."
   ]
  }
 ],
 "metadata": {
  "kernelspec": {
   "display_name": "Python 3 (ipykernel)",
   "language": "python",
   "name": "python3"
  },
  "language_info": {
   "codemirror_mode": {
    "name": "ipython",
    "version": 3
   },
   "file_extension": ".py",
   "mimetype": "text/x-python",
   "name": "python",
   "nbconvert_exporter": "python",
   "pygments_lexer": "ipython3",
   "version": "3.9.12"
  }
 },
 "nbformat": 4,
 "nbformat_minor": 5
}
