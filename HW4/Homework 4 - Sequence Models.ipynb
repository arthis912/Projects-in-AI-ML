{
 "cells": [
  {
   "cell_type": "markdown",
   "id": "27f73882",
   "metadata": {},
   "source": [
    "# HW 4 - Arthi Seetharaman"
   ]
  },
  {
   "cell_type": "markdown",
   "id": "39e52880",
   "metadata": {},
   "source": [
    "# Task 2"
   ]
  },
  {
   "cell_type": "markdown",
   "id": "99da6bf6",
   "metadata": {},
   "source": [
    "Dataset Selection"
   ]
  },
  {
   "cell_type": "markdown",
   "id": "c95a3ad3",
   "metadata": {},
   "source": [
    "Link to Dataset: https://www.kaggle.com/datasets/tarunpaparaju/apple-aapl-historical-stock-data\n",
    "\n",
    "This dataset includes daily statistics about Apple's Stock (AAPL) from 2010 - 2020. With this dataset, a problem that can be solved is predicted future APPL prices, which can help people decide if when/how much to invest in the stocks. Sequence models are suitable for stock price prediction because they can capture patterns that are unique to time series datasets, which then helps make a more accurate prediction. \n",
    "\n",
    "The framework I am using is Tensorflow."
   ]
  },
  {
   "cell_type": "code",
   "execution_count": 121,
   "id": "dfb6091d",
   "metadata": {},
   "outputs": [],
   "source": [
    "#Importing neccesary libraries\n",
    "import pandas as pd\n",
    "import matplotlib.pyplot as plt\n",
    "import seaborn as sns\n",
    "from sklearn.preprocessing import MinMaxScaler\n",
    "from sklearn.model_selection import train_test_split\n",
    "import numpy as np\n",
    "import tensorflow as tf\n",
    "\n",
    "from tensorflow.keras.models import Sequential\n",
    "from tensorflow.keras.layers import Dense, SimpleRNN, LSTM, GRU\n",
    "from tensorflow.keras.metrics import MeanSquaredError"
   ]
  },
  {
   "cell_type": "markdown",
   "id": "52248c60",
   "metadata": {},
   "source": [
    "# EDA and Data Preprocessing"
   ]
  },
  {
   "cell_type": "code",
   "execution_count": 122,
   "id": "cd130acb",
   "metadata": {},
   "outputs": [],
   "source": [
    "#Loading the dataset\n",
    "path = 'stock.csv'\n",
    "data = pd.read_csv(path)"
   ]
  },
  {
   "cell_type": "code",
   "execution_count": 124,
   "id": "a11cc2ce",
   "metadata": {},
   "outputs": [
    {
     "data": {
      "text/html": [
       "<div>\n",
       "<style scoped>\n",
       "    .dataframe tbody tr th:only-of-type {\n",
       "        vertical-align: middle;\n",
       "    }\n",
       "\n",
       "    .dataframe tbody tr th {\n",
       "        vertical-align: top;\n",
       "    }\n",
       "\n",
       "    .dataframe thead th {\n",
       "        text-align: right;\n",
       "    }\n",
       "</style>\n",
       "<table border=\"1\" class=\"dataframe\">\n",
       "  <thead>\n",
       "    <tr style=\"text-align: right;\">\n",
       "      <th></th>\n",
       "      <th>Date</th>\n",
       "      <th>Close/Last</th>\n",
       "      <th>Volume</th>\n",
       "      <th>Open</th>\n",
       "      <th>High</th>\n",
       "      <th>Low</th>\n",
       "    </tr>\n",
       "  </thead>\n",
       "  <tbody>\n",
       "    <tr>\n",
       "      <th>0</th>\n",
       "      <td>2/28/20</td>\n",
       "      <td>$273.36</td>\n",
       "      <td>106721200</td>\n",
       "      <td>$257.26</td>\n",
       "      <td>$278.41</td>\n",
       "      <td>$256.37</td>\n",
       "    </tr>\n",
       "    <tr>\n",
       "      <th>1</th>\n",
       "      <td>2/27/20</td>\n",
       "      <td>$273.52</td>\n",
       "      <td>80151380</td>\n",
       "      <td>$281.10</td>\n",
       "      <td>$286</td>\n",
       "      <td>$272.96</td>\n",
       "    </tr>\n",
       "    <tr>\n",
       "      <th>2</th>\n",
       "      <td>2/26/20</td>\n",
       "      <td>$292.65</td>\n",
       "      <td>49678430</td>\n",
       "      <td>$286.53</td>\n",
       "      <td>$297.88</td>\n",
       "      <td>$286.50</td>\n",
       "    </tr>\n",
       "    <tr>\n",
       "      <th>3</th>\n",
       "      <td>2/25/20</td>\n",
       "      <td>$288.08</td>\n",
       "      <td>57668360</td>\n",
       "      <td>$300.95</td>\n",
       "      <td>$302.53</td>\n",
       "      <td>$286.13</td>\n",
       "    </tr>\n",
       "    <tr>\n",
       "      <th>4</th>\n",
       "      <td>2/24/20</td>\n",
       "      <td>$298.18</td>\n",
       "      <td>55548830</td>\n",
       "      <td>$297.26</td>\n",
       "      <td>$304.18</td>\n",
       "      <td>$289.23</td>\n",
       "    </tr>\n",
       "  </tbody>\n",
       "</table>\n",
       "</div>"
      ],
      "text/plain": [
       "      Date  Close/Last     Volume      Open      High       Low\n",
       "0  2/28/20    $273.36   106721200  $257.26   $278.41   $256.37 \n",
       "1  2/27/20    $273.52    80151380  $281.10      $286   $272.96 \n",
       "2  2/26/20    $292.65    49678430  $286.53   $297.88   $286.50 \n",
       "3  2/25/20    $288.08    57668360  $300.95   $302.53   $286.13 \n",
       "4  2/24/20    $298.18    55548830  $297.26   $304.18   $289.23 "
      ]
     },
     "execution_count": 124,
     "metadata": {},
     "output_type": "execute_result"
    }
   ],
   "source": [
    "#First few rows of dataset\n",
    "data.head()"
   ]
  },
  {
   "cell_type": "code",
   "execution_count": 125,
   "id": "7e442bef",
   "metadata": {},
   "outputs": [
    {
     "data": {
      "text/plain": [
       "Date           0\n",
       " Close/Last    0\n",
       " Volume        0\n",
       " Open          0\n",
       " High          0\n",
       " Low           0\n",
       "dtype: int64"
      ]
     },
     "execution_count": 125,
     "metadata": {},
     "output_type": "execute_result"
    }
   ],
   "source": [
    "#Checking for missing values\n",
    "data.isnull().sum()"
   ]
  },
  {
   "cell_type": "code",
   "execution_count": 126,
   "id": "7d4a7211",
   "metadata": {},
   "outputs": [],
   "source": [
    "#Replace $\n",
    "data[' Close/Last'] = data[' Close/Last'].replace('[\\$,]', '', regex=True).astype(float)\n",
    "data[' Open'] = data[' Open'].replace('[\\$,]', '', regex=True).astype(float)\n",
    "data[' High'] = data[' High'].replace('[\\$,]', '', regex=True).astype(float)\n",
    "data[' Low'] = data[' Low'].replace('[\\$,]', '', regex=True).astype(float)"
   ]
  },
  {
   "cell_type": "code",
   "execution_count": 127,
   "id": "f4936165",
   "metadata": {},
   "outputs": [
    {
     "data": {
      "text/html": [
       "<div>\n",
       "<style scoped>\n",
       "    .dataframe tbody tr th:only-of-type {\n",
       "        vertical-align: middle;\n",
       "    }\n",
       "\n",
       "    .dataframe tbody tr th {\n",
       "        vertical-align: top;\n",
       "    }\n",
       "\n",
       "    .dataframe thead th {\n",
       "        text-align: right;\n",
       "    }\n",
       "</style>\n",
       "<table border=\"1\" class=\"dataframe\">\n",
       "  <thead>\n",
       "    <tr style=\"text-align: right;\">\n",
       "      <th></th>\n",
       "      <th>Close/Last</th>\n",
       "      <th>Volume</th>\n",
       "      <th>Open</th>\n",
       "      <th>High</th>\n",
       "      <th>Low</th>\n",
       "    </tr>\n",
       "  </thead>\n",
       "  <tbody>\n",
       "    <tr>\n",
       "      <th>count</th>\n",
       "      <td>2518.000000</td>\n",
       "      <td>2.518000e+03</td>\n",
       "      <td>2518.000000</td>\n",
       "      <td>2518.000000</td>\n",
       "      <td>2518.000000</td>\n",
       "    </tr>\n",
       "    <tr>\n",
       "      <th>mean</th>\n",
       "      <td>114.769627</td>\n",
       "      <td>7.258009e+07</td>\n",
       "      <td>114.728558</td>\n",
       "      <td>115.766541</td>\n",
       "      <td>113.690659</td>\n",
       "    </tr>\n",
       "    <tr>\n",
       "      <th>std</th>\n",
       "      <td>60.662349</td>\n",
       "      <td>5.663113e+07</td>\n",
       "      <td>60.546889</td>\n",
       "      <td>61.134394</td>\n",
       "      <td>60.085100</td>\n",
       "    </tr>\n",
       "    <tr>\n",
       "      <th>min</th>\n",
       "      <td>29.840000</td>\n",
       "      <td>1.136205e+07</td>\n",
       "      <td>29.390000</td>\n",
       "      <td>29.930000</td>\n",
       "      <td>28.460000</td>\n",
       "    </tr>\n",
       "    <tr>\n",
       "      <th>25%</th>\n",
       "      <td>66.825000</td>\n",
       "      <td>3.053026e+07</td>\n",
       "      <td>66.877500</td>\n",
       "      <td>67.472500</td>\n",
       "      <td>66.375000</td>\n",
       "    </tr>\n",
       "    <tr>\n",
       "      <th>50%</th>\n",
       "      <td>101.090000</td>\n",
       "      <td>5.295469e+07</td>\n",
       "      <td>101.115000</td>\n",
       "      <td>102.085000</td>\n",
       "      <td>100.350000</td>\n",
       "    </tr>\n",
       "    <tr>\n",
       "      <th>75%</th>\n",
       "      <td>154.630000</td>\n",
       "      <td>9.861006e+07</td>\n",
       "      <td>154.610000</td>\n",
       "      <td>155.735000</td>\n",
       "      <td>153.325000</td>\n",
       "    </tr>\n",
       "    <tr>\n",
       "      <th>max</th>\n",
       "      <td>327.200000</td>\n",
       "      <td>4.624423e+08</td>\n",
       "      <td>324.740000</td>\n",
       "      <td>327.850000</td>\n",
       "      <td>323.350000</td>\n",
       "    </tr>\n",
       "  </tbody>\n",
       "</table>\n",
       "</div>"
      ],
      "text/plain": [
       "        Close/Last        Volume         Open         High          Low\n",
       "count  2518.000000  2.518000e+03  2518.000000  2518.000000  2518.000000\n",
       "mean    114.769627  7.258009e+07   114.728558   115.766541   113.690659\n",
       "std      60.662349  5.663113e+07    60.546889    61.134394    60.085100\n",
       "min      29.840000  1.136205e+07    29.390000    29.930000    28.460000\n",
       "25%      66.825000  3.053026e+07    66.877500    67.472500    66.375000\n",
       "50%     101.090000  5.295469e+07   101.115000   102.085000   100.350000\n",
       "75%     154.630000  9.861006e+07   154.610000   155.735000   153.325000\n",
       "max     327.200000  4.624423e+08   324.740000   327.850000   323.350000"
      ]
     },
     "execution_count": 127,
     "metadata": {},
     "output_type": "execute_result"
    }
   ],
   "source": [
    "data.describe()"
   ]
  },
  {
   "cell_type": "code",
   "execution_count": 128,
   "id": "d219242d",
   "metadata": {},
   "outputs": [
    {
     "data": {
      "text/html": [
       "<div>\n",
       "<style scoped>\n",
       "    .dataframe tbody tr th:only-of-type {\n",
       "        vertical-align: middle;\n",
       "    }\n",
       "\n",
       "    .dataframe tbody tr th {\n",
       "        vertical-align: top;\n",
       "    }\n",
       "\n",
       "    .dataframe thead th {\n",
       "        text-align: right;\n",
       "    }\n",
       "</style>\n",
       "<table border=\"1\" class=\"dataframe\">\n",
       "  <thead>\n",
       "    <tr style=\"text-align: right;\">\n",
       "      <th></th>\n",
       "      <th>Date</th>\n",
       "      <th>Close/Last</th>\n",
       "      <th>Volume</th>\n",
       "      <th>Open</th>\n",
       "      <th>High</th>\n",
       "      <th>Low</th>\n",
       "    </tr>\n",
       "  </thead>\n",
       "  <tbody>\n",
       "    <tr>\n",
       "      <th>0</th>\n",
       "      <td>2010-03-01</td>\n",
       "      <td>29.86</td>\n",
       "      <td>137312041</td>\n",
       "      <td>29.39</td>\n",
       "      <td>29.93</td>\n",
       "      <td>29.35</td>\n",
       "    </tr>\n",
       "    <tr>\n",
       "      <th>1</th>\n",
       "      <td>2010-03-02</td>\n",
       "      <td>29.84</td>\n",
       "      <td>141486282</td>\n",
       "      <td>29.99</td>\n",
       "      <td>30.12</td>\n",
       "      <td>29.68</td>\n",
       "    </tr>\n",
       "    <tr>\n",
       "      <th>2</th>\n",
       "      <td>2010-03-03</td>\n",
       "      <td>29.90</td>\n",
       "      <td>92846488</td>\n",
       "      <td>29.85</td>\n",
       "      <td>29.98</td>\n",
       "      <td>29.71</td>\n",
       "    </tr>\n",
       "    <tr>\n",
       "      <th>3</th>\n",
       "      <td>2010-03-04</td>\n",
       "      <td>30.10</td>\n",
       "      <td>89591907</td>\n",
       "      <td>29.90</td>\n",
       "      <td>30.13</td>\n",
       "      <td>29.80</td>\n",
       "    </tr>\n",
       "    <tr>\n",
       "      <th>4</th>\n",
       "      <td>2010-03-05</td>\n",
       "      <td>31.28</td>\n",
       "      <td>224647427</td>\n",
       "      <td>30.71</td>\n",
       "      <td>31.39</td>\n",
       "      <td>30.66</td>\n",
       "    </tr>\n",
       "  </tbody>\n",
       "</table>\n",
       "</div>"
      ],
      "text/plain": [
       "        Date   Close/Last     Volume   Open   High    Low\n",
       "0 2010-03-01        29.86  137312041  29.39  29.93  29.35\n",
       "1 2010-03-02        29.84  141486282  29.99  30.12  29.68\n",
       "2 2010-03-03        29.90   92846488  29.85  29.98  29.71\n",
       "3 2010-03-04        30.10   89591907  29.90  30.13  29.80\n",
       "4 2010-03-05        31.28  224647427  30.71  31.39  30.66"
      ]
     },
     "execution_count": 128,
     "metadata": {},
     "output_type": "execute_result"
    }
   ],
   "source": [
    "#Converting to proper format\n",
    "data['Date'] = pd.to_datetime(data['Date'])\n",
    "\n",
    "#Sorting by date\n",
    "data = data.sort_values('Date')\n",
    "data.reset_index(drop=True, inplace=True)\n",
    "\n",
    "data.head()"
   ]
  },
  {
   "cell_type": "code",
   "execution_count": 129,
   "id": "4d6e9bc1",
   "metadata": {},
   "outputs": [
    {
     "data": {
      "image/png": "[encoded data removed]",
      "text/plain": [
       "<Figure size 720x432 with 1 Axes>"
      ]
     },
     "metadata": {
      "needs_background": "light"
     },
     "output_type": "display_data"
    }
   ],
   "source": [
    "#Plotting the closing prices\n",
    "plt.figure(figsize=(10, 6))\n",
    "plt.plot(data['Date'], data[' Close/Last'], label='Close Price')\n",
    "plt.title('Apple Stock Closing Prices from 2010 to 2020')\n",
    "plt.xlabel('Date')\n",
    "plt.ylabel('Close Price (USD)')\n",
    "plt.legend()\n",
    "plt.show()"
   ]
  },
  {
   "cell_type": "code",
   "execution_count": 130,
   "id": "a9ef4b48",
   "metadata": {},
   "outputs": [
    {
     "data": {
      "image/png": "[encoded data removed]",
      "text/plain": [
       "<Figure size 720x432 with 1 Axes>"
      ]
     },
     "metadata": {
      "needs_background": "light"
     },
     "output_type": "display_data"
    }
   ],
   "source": [
    "#Plotting Volume\n",
    "plt.figure(figsize=(10, 6))\n",
    "plt.plot(data['Date'], data[' Volume'], label='Volume', color='orange')\n",
    "plt.title('Volume of Apple Stock Traded from 2010 to 2020')\n",
    "plt.xlabel('Date')\n",
    "plt.ylabel('Volume')\n",
    "plt.legend()\n",
    "plt.show()"
   ]
  },
  {
   "cell_type": "code",
   "execution_count": 131,
   "id": "f610c14c",
   "metadata": {},
   "outputs": [
    {
     "name": "stdout",
     "output_type": "stream",
     "text": [
      "              Close/Last    Volume      Open      High       Low\n",
      " Close/Last     1.000000 -0.608502  0.999653  0.999828  0.999842\n",
      " Volume        -0.608502  1.000000 -0.607704 -0.605073 -0.611776\n",
      " Open           0.999653 -0.607704  1.000000  0.999842  0.999810\n",
      " High           0.999828 -0.605073  0.999842  1.000000  0.999756\n",
      " Low            0.999842 -0.611776  0.999810  0.999756  1.000000\n"
     ]
    },
    {
     "data": {
      "image/png": "[encoded data removed]",
      "text/plain": [
       "<Figure size 720x576 with 2 Axes>"
      ]
     },
     "metadata": {
      "needs_background": "light"
     },
     "output_type": "display_data"
    }
   ],
   "source": [
    "#Display the correlation matrix\n",
    "correlation_matrix = data.corr()\n",
    "print(correlation_matrix)\n",
    "\n",
    "plt.figure(figsize=(10, 8))\n",
    "sns.heatmap(correlation_matrix, annot=True, cmap='coolwarm')\n",
    "plt.show()"
   ]
  },
  {
   "cell_type": "code",
   "execution_count": 132,
   "id": "b21caf81",
   "metadata": {},
   "outputs": [],
   "source": [
    "dataset = data[' Close/Last'].values.reshape(-1, 1)\n",
    "\n",
    "#Data preprocessing\n",
    "scaler = MinMaxScaler()\n",
    "data_normalized = scaler.fit_transform(dataset)"
   ]
  },
  {
   "cell_type": "markdown",
   "id": "ae0e5aac",
   "metadata": {},
   "source": [
    "# Part 1 - Simple RNN Implementation"
   ]
  },
  {
   "cell_type": "code",
   "execution_count": 133,
   "id": "a643e51f",
   "metadata": {},
   "outputs": [],
   "source": [
    "#Function to create sequences for the RNN's\n",
    "def dataset_3d_split(data, length):\n",
    "    \n",
    "    X, y = [], []\n",
    "    \n",
    "    for i in range(len(data) - length):\n",
    "        X.append(data[i:i + length])\n",
    "        y.append(data[i + length])\n",
    "        \n",
    "    return np.array(X), np.array(y)"
   ]
  },
  {
   "cell_type": "code",
   "execution_count": 134,
   "id": "05f5dfe2",
   "metadata": {},
   "outputs": [
    {
     "name": "stdout",
     "output_type": "stream",
     "text": [
      "(1741, 1, 30)\n"
     ]
    }
   ],
   "source": [
    "#Number of days to use for prediction\n",
    "length = 30\n",
    "X, y = dataset_3d_split(data_normalized, length)\n",
    "\n",
    "# Splitting the dataset\n",
    "X_train, X_temp, y_train, y_temp = train_test_split(X, y, test_size=0.3, random_state=42, shuffle=False)\n",
    "X_val, X_test, y_val, y_test = train_test_split(X_temp, y_temp, test_size=0.5, random_state=42, shuffle=False)\n",
    "\n",
    "\n",
    "# Reshaping the data to fit the model input requirements\n",
    "# This step is necessary because RNN models in TensorFlow expect data to be in a 3D shape (samples, time steps, features)\n",
    "X_train = np.reshape(X_train, (X_train.shape[0], 1, X_train.shape[1]))\n",
    "X_val = np.reshape(X_val, (X_val.shape[0], 1, X_val.shape[1]))\n",
    "X_test = np.reshape(X_test, (X_test.shape[0], 1, X_test.shape[1]))\n",
    "print(X_train.shape)"
   ]
  },
  {
   "cell_type": "code",
   "execution_count": 135,
   "id": "9ec5554e",
   "metadata": {},
   "outputs": [
    {
     "name": "stdout",
     "output_type": "stream",
     "text": [
      "Epoch 1/50\n",
      "55/55 [==============================] - 2s 6ms/step - loss: 0.0015 - mean_squared_error: 0.0015 - val_loss: 0.0022 - val_mean_squared_error: 0.0022\n",
      "Epoch 2/50\n",
      "55/55 [==============================] - 0s 2ms/step - loss: 2.4471e-04 - mean_squared_error: 2.4471e-04 - val_loss: 0.0017 - val_mean_squared_error: 0.0017\n",
      "Epoch 3/50\n",
      "55/55 [==============================] - 0s 2ms/step - loss: 1.9118e-04 - mean_squared_error: 1.9118e-04 - val_loss: 0.0019 - val_mean_squared_error: 0.0019\n",
      "Epoch 4/50\n",
      "55/55 [==============================] - 0s 2ms/step - loss: 1.5308e-04 - mean_squared_error: 1.5308e-04 - val_loss: 0.0014 - val_mean_squared_error: 0.0014\n",
      "Epoch 5/50\n",
      "55/55 [==============================] - 0s 2ms/step - loss: 1.2318e-04 - mean_squared_error: 1.2318e-04 - val_loss: 0.0017 - val_mean_squared_error: 0.0017\n",
      "Epoch 6/50\n",
      "55/55 [==============================] - 0s 2ms/step - loss: 1.1674e-04 - mean_squared_error: 1.1674e-04 - val_loss: 0.0020 - val_mean_squared_error: 0.0020\n",
      "Epoch 7/50\n",
      "55/55 [==============================] - 0s 2ms/step - loss: 1.1633e-04 - mean_squared_error: 1.1633e-04 - val_loss: 0.0010 - val_mean_squared_error: 0.0010\n",
      "Epoch 8/50\n",
      "55/55 [==============================] - 0s 2ms/step - loss: 9.4816e-05 - mean_squared_error: 9.4816e-05 - val_loss: 0.0010 - val_mean_squared_error: 0.0010\n",
      "Epoch 9/50\n",
      "55/55 [==============================] - 0s 2ms/step - loss: 8.8178e-05 - mean_squared_error: 8.8178e-05 - val_loss: 0.0016 - val_mean_squared_error: 0.0016\n",
      "Epoch 10/50\n",
      "55/55 [==============================] - 0s 2ms/step - loss: 7.8611e-05 - mean_squared_error: 7.8611e-05 - val_loss: 7.1646e-04 - val_mean_squared_error: 7.1646e-04\n",
      "Epoch 11/50\n",
      "55/55 [==============================] - 0s 2ms/step - loss: 7.1093e-05 - mean_squared_error: 7.1093e-05 - val_loss: 4.1945e-04 - val_mean_squared_error: 4.1945e-04\n",
      "Epoch 12/50\n",
      "55/55 [==============================] - 0s 2ms/step - loss: 6.7523e-05 - mean_squared_error: 6.7523e-05 - val_loss: 4.4152e-04 - val_mean_squared_error: 4.4152e-04\n",
      "Epoch 13/50\n",
      "55/55 [==============================] - 0s 2ms/step - loss: 7.0103e-05 - mean_squared_error: 7.0103e-05 - val_loss: 5.9544e-04 - val_mean_squared_error: 5.9544e-04\n",
      "Epoch 14/50\n",
      "55/55 [==============================] - 0s 2ms/step - loss: 6.1955e-05 - mean_squared_error: 6.1955e-05 - val_loss: 0.0013 - val_mean_squared_error: 0.0013\n",
      "Epoch 15/50\n",
      "55/55 [==============================] - 0s 2ms/step - loss: 7.7323e-05 - mean_squared_error: 7.7323e-05 - val_loss: 3.9467e-04 - val_mean_squared_error: 3.9467e-04\n",
      "Epoch 16/50\n",
      "55/55 [==============================] - 0s 2ms/step - loss: 6.7230e-05 - mean_squared_error: 6.7230e-05 - val_loss: 4.4212e-04 - val_mean_squared_error: 4.4212e-04\n",
      "Epoch 17/50\n",
      "55/55 [==============================] - 0s 2ms/step - loss: 4.7937e-05 - mean_squared_error: 4.7937e-05 - val_loss: 3.2336e-04 - val_mean_squared_error: 3.2336e-04\n",
      "Epoch 18/50\n",
      "55/55 [==============================] - 0s 2ms/step - loss: 5.1522e-05 - mean_squared_error: 5.1522e-05 - val_loss: 7.8665e-04 - val_mean_squared_error: 7.8665e-04\n",
      "Epoch 19/50\n",
      "55/55 [==============================] - 0s 2ms/step - loss: 5.0362e-05 - mean_squared_error: 5.0362e-05 - val_loss: 4.5888e-04 - val_mean_squared_error: 4.5888e-04\n",
      "Epoch 20/50\n",
      "55/55 [==============================] - 0s 2ms/step - loss: 4.8593e-05 - mean_squared_error: 4.8593e-05 - val_loss: 1.8724e-04 - val_mean_squared_error: 1.8724e-04\n",
      "Epoch 21/50\n",
      "55/55 [==============================] - 0s 2ms/step - loss: 4.4699e-05 - mean_squared_error: 4.4699e-05 - val_loss: 3.5660e-04 - val_mean_squared_error: 3.5660e-04\n",
      "Epoch 22/50\n",
      "55/55 [==============================] - 0s 2ms/step - loss: 4.3670e-05 - mean_squared_error: 4.3670e-05 - val_loss: 3.0801e-04 - val_mean_squared_error: 3.0801e-04\n",
      "Epoch 23/50\n",
      "55/55 [==============================] - 0s 2ms/step - loss: 4.8564e-05 - mean_squared_error: 4.8564e-05 - val_loss: 3.1952e-04 - val_mean_squared_error: 3.1952e-04\n",
      "Epoch 24/50\n",
      "55/55 [==============================] - 0s 2ms/step - loss: 4.6469e-05 - mean_squared_error: 4.6469e-05 - val_loss: 1.6813e-04 - val_mean_squared_error: 1.6813e-04\n",
      "Epoch 25/50\n",
      "55/55 [==============================] - 0s 2ms/step - loss: 4.8952e-05 - mean_squared_error: 4.8952e-05 - val_loss: 5.8974e-04 - val_mean_squared_error: 5.8974e-04\n",
      "Epoch 26/50\n",
      "55/55 [==============================] - 0s 2ms/step - loss: 4.8715e-05 - mean_squared_error: 4.8715e-05 - val_loss: 2.7153e-04 - val_mean_squared_error: 2.7153e-04\n",
      "Epoch 27/50\n",
      "55/55 [==============================] - 0s 2ms/step - loss: 4.4875e-05 - mean_squared_error: 4.4875e-05 - val_loss: 3.8418e-04 - val_mean_squared_error: 3.8418e-04\n",
      "Epoch 28/50\n",
      "55/55 [==============================] - 0s 2ms/step - loss: 4.5422e-05 - mean_squared_error: 4.5422e-05 - val_loss: 4.0994e-04 - val_mean_squared_error: 4.0994e-04\n",
      "Epoch 29/50\n",
      "55/55 [==============================] - 0s 2ms/step - loss: 3.9243e-05 - mean_squared_error: 3.9243e-05 - val_loss: 3.0836e-04 - val_mean_squared_error: 3.0836e-04\n",
      "Epoch 30/50\n",
      "55/55 [==============================] - 0s 2ms/step - loss: 4.0854e-05 - mean_squared_error: 4.0854e-05 - val_loss: 1.2283e-04 - val_mean_squared_error: 1.2283e-04\n",
      "Epoch 31/50\n",
      "55/55 [==============================] - 0s 2ms/step - loss: 4.4461e-05 - mean_squared_error: 4.4461e-05 - val_loss: 1.7999e-04 - val_mean_squared_error: 1.7999e-04\n",
      "Epoch 32/50\n",
      "55/55 [==============================] - 0s 2ms/step - loss: 4.1477e-05 - mean_squared_error: 4.1477e-05 - val_loss: 2.3265e-04 - val_mean_squared_error: 2.3265e-04\n",
      "Epoch 33/50\n",
      "55/55 [==============================] - 0s 2ms/step - loss: 4.1030e-05 - mean_squared_error: 4.1030e-05 - val_loss: 1.6971e-04 - val_mean_squared_error: 1.6971e-04\n",
      "Epoch 34/50\n",
      "55/55 [==============================] - 0s 2ms/step - loss: 5.0136e-05 - mean_squared_error: 5.0136e-05 - val_loss: 1.1402e-04 - val_mean_squared_error: 1.1402e-04\n",
      "Epoch 35/50\n",
      "55/55 [==============================] - 0s 2ms/step - loss: 5.4206e-05 - mean_squared_error: 5.4206e-05 - val_loss: 2.8376e-04 - val_mean_squared_error: 2.8376e-04\n",
      "Epoch 36/50\n",
      "55/55 [==============================] - 0s 2ms/step - loss: 3.5639e-05 - mean_squared_error: 3.5639e-05 - val_loss: 2.1940e-04 - val_mean_squared_error: 2.1940e-04\n",
      "Epoch 37/50\n",
      "55/55 [==============================] - 0s 2ms/step - loss: 3.7207e-05 - mean_squared_error: 3.7207e-05 - val_loss: 1.4481e-04 - val_mean_squared_error: 1.4481e-04\n",
      "Epoch 38/50\n",
      "55/55 [==============================] - 0s 2ms/step - loss: 4.0134e-05 - mean_squared_error: 4.0134e-05 - val_loss: 2.2469e-04 - val_mean_squared_error: 2.2469e-04\n",
      "Epoch 39/50\n",
      "55/55 [==============================] - 0s 2ms/step - loss: 4.2985e-05 - mean_squared_error: 4.2985e-05 - val_loss: 3.9530e-04 - val_mean_squared_error: 3.9530e-04\n",
      "Epoch 40/50\n",
      "55/55 [==============================] - 0s 2ms/step - loss: 4.9594e-05 - mean_squared_error: 4.9594e-05 - val_loss: 1.2132e-04 - val_mean_squared_error: 1.2132e-04\n",
      "Epoch 41/50\n",
      "55/55 [==============================] - 0s 2ms/step - loss: 4.5753e-05 - mean_squared_error: 4.5753e-05 - val_loss: 1.1115e-04 - val_mean_squared_error: 1.1115e-04\n",
      "Epoch 42/50\n",
      "55/55 [==============================] - 0s 2ms/step - loss: 3.6136e-05 - mean_squared_error: 3.6136e-05 - val_loss: 1.1123e-04 - val_mean_squared_error: 1.1123e-04\n",
      "Epoch 43/50\n",
      "55/55 [==============================] - 0s 2ms/step - loss: 3.8667e-05 - mean_squared_error: 3.8667e-05 - val_loss: 2.4025e-04 - val_mean_squared_error: 2.4025e-04\n",
      "Epoch 44/50\n",
      "55/55 [==============================] - 0s 2ms/step - loss: 5.3623e-05 - mean_squared_error: 5.3623e-05 - val_loss: 2.2888e-04 - val_mean_squared_error: 2.2888e-04\n",
      "Epoch 45/50\n",
      "55/55 [==============================] - 0s 2ms/step - loss: 3.9564e-05 - mean_squared_error: 3.9564e-05 - val_loss: 1.0826e-04 - val_mean_squared_error: 1.0826e-04\n",
      "Epoch 46/50\n",
      "55/55 [==============================] - 0s 2ms/step - loss: 3.8948e-05 - mean_squared_error: 3.8948e-05 - val_loss: 1.2209e-04 - val_mean_squared_error: 1.2209e-04\n",
      "Epoch 47/50\n",
      "55/55 [==============================] - 0s 2ms/step - loss: 4.5708e-05 - mean_squared_error: 4.5708e-05 - val_loss: 1.7831e-04 - val_mean_squared_error: 1.7831e-04\n"
     ]
    },
    {
     "name": "stdout",
     "output_type": "stream",
     "text": [
      "Epoch 48/50\n",
      "55/55 [==============================] - 0s 2ms/step - loss: 3.8804e-05 - mean_squared_error: 3.8804e-05 - val_loss: 1.4758e-04 - val_mean_squared_error: 1.4758e-04\n",
      "Epoch 49/50\n",
      "55/55 [==============================] - 0s 2ms/step - loss: 3.4547e-05 - mean_squared_error: 3.4547e-05 - val_loss: 1.8352e-04 - val_mean_squared_error: 1.8352e-04\n",
      "Epoch 50/50\n",
      "55/55 [==============================] - 0s 2ms/step - loss: 5.8578e-05 - mean_squared_error: 5.8578e-05 - val_loss: 2.2578e-04 - val_mean_squared_error: 2.2578e-04\n"
     ]
    }
   ],
   "source": [
    "model_rnn = Sequential([\n",
    "    SimpleRNN(50, activation='tanh', input_shape=(1, length)),\n",
    "    Dense(1, activation='linear')\n",
    "])\n",
    "\n",
    "model_rnn.compile(optimizer='adam', loss='mean_squared_error', metrics=[MeanSquaredError()])\n",
    "\n",
    "rnn_losses = model_rnn.fit(X_train, y_train, validation_data=(X_val, y_val), epochs=50, batch_size=32)"
   ]
  },
  {
   "cell_type": "code",
   "execution_count": 136,
   "id": "63882d4b",
   "metadata": {},
   "outputs": [
    {
     "data": {
      "image/png": "[encoded data removed]",
      "text/plain": [
       "<Figure size 432x288 with 1 Axes>"
      ]
     },
     "metadata": {
      "needs_background": "light"
     },
     "output_type": "display_data"
    }
   ],
   "source": [
    "plt.plot(rnn_losses.history['loss'], label='train')\n",
    "plt.plot(rnn_losses.history['val_loss'], label='validation')\n",
    "plt.title('Simple RNN Training and Validation Loss')\n",
    "plt.ylabel('loss')\n",
    "plt.xlabel('epoch')\n",
    "plt.legend()\n",
    "plt.show()"
   ]
  },
  {
   "cell_type": "markdown",
   "id": "e88a8732",
   "metadata": {},
   "source": [
    "# Part 2 - LSTM and GRU"
   ]
  },
  {
   "cell_type": "markdown",
   "id": "5a24955e",
   "metadata": {},
   "source": [
    "LSTM"
   ]
  },
  {
   "cell_type": "code",
   "execution_count": 137,
   "id": "ce5a2a5a",
   "metadata": {},
   "outputs": [
    {
     "name": "stdout",
     "output_type": "stream",
     "text": [
      "Epoch 1/50\n",
      "55/55 [==============================] - 0s 3ms/step - loss: 5.4956e-05 - mean_squared_error: 5.4956e-05 - val_loss: 1.0897e-04 - val_mean_squared_error: 1.0897e-04\n",
      "Epoch 2/50\n",
      "55/55 [==============================] - 0s 2ms/step - loss: 3.8339e-05 - mean_squared_error: 3.8339e-05 - val_loss: 1.1161e-04 - val_mean_squared_error: 1.1161e-04\n",
      "Epoch 3/50\n",
      "55/55 [==============================] - 0s 2ms/step - loss: 6.6852e-05 - mean_squared_error: 6.6852e-05 - val_loss: 1.6087e-04 - val_mean_squared_error: 1.6087e-04\n",
      "Epoch 4/50\n",
      "55/55 [==============================] - 0s 2ms/step - loss: 6.8517e-05 - mean_squared_error: 6.8517e-05 - val_loss: 1.1837e-04 - val_mean_squared_error: 1.1837e-04\n",
      "Epoch 5/50\n",
      "55/55 [==============================] - 0s 2ms/step - loss: 3.2350e-05 - mean_squared_error: 3.2350e-05 - val_loss: 2.5534e-04 - val_mean_squared_error: 2.5534e-04\n",
      "Epoch 6/50\n",
      "55/55 [==============================] - 0s 2ms/step - loss: 3.8099e-05 - mean_squared_error: 3.8099e-05 - val_loss: 1.6497e-04 - val_mean_squared_error: 1.6497e-04\n",
      "Epoch 7/50\n",
      "55/55 [==============================] - 0s 2ms/step - loss: 3.5576e-05 - mean_squared_error: 3.5576e-05 - val_loss: 1.7634e-04 - val_mean_squared_error: 1.7634e-04\n",
      "Epoch 8/50\n",
      "55/55 [==============================] - 0s 2ms/step - loss: 3.3310e-05 - mean_squared_error: 3.3310e-05 - val_loss: 1.0268e-04 - val_mean_squared_error: 1.0268e-04\n",
      "Epoch 9/50\n",
      "55/55 [==============================] - 0s 2ms/step - loss: 3.0454e-05 - mean_squared_error: 3.0454e-05 - val_loss: 3.5479e-04 - val_mean_squared_error: 3.5479e-04\n",
      "Epoch 10/50\n",
      "55/55 [==============================] - 0s 2ms/step - loss: 3.4960e-05 - mean_squared_error: 3.4960e-05 - val_loss: 1.2638e-04 - val_mean_squared_error: 1.2638e-04\n",
      "Epoch 11/50\n",
      "55/55 [==============================] - 0s 2ms/step - loss: 3.9056e-05 - mean_squared_error: 3.9056e-05 - val_loss: 1.0928e-04 - val_mean_squared_error: 1.0928e-04\n",
      "Epoch 12/50\n",
      "55/55 [==============================] - 0s 2ms/step - loss: 4.0534e-05 - mean_squared_error: 4.0534e-05 - val_loss: 1.0183e-04 - val_mean_squared_error: 1.0183e-04\n",
      "Epoch 13/50\n",
      "55/55 [==============================] - 0s 2ms/step - loss: 3.9679e-05 - mean_squared_error: 3.9679e-05 - val_loss: 1.8966e-04 - val_mean_squared_error: 1.8966e-04\n",
      "Epoch 14/50\n",
      "55/55 [==============================] - 0s 2ms/step - loss: 5.3204e-05 - mean_squared_error: 5.3204e-05 - val_loss: 1.9284e-04 - val_mean_squared_error: 1.9284e-04\n",
      "Epoch 15/50\n",
      "55/55 [==============================] - 0s 2ms/step - loss: 3.7087e-05 - mean_squared_error: 3.7087e-05 - val_loss: 1.2402e-04 - val_mean_squared_error: 1.2402e-04\n",
      "Epoch 16/50\n",
      "55/55 [==============================] - 0s 2ms/step - loss: 3.6779e-05 - mean_squared_error: 3.6779e-05 - val_loss: 6.1919e-04 - val_mean_squared_error: 6.1919e-04\n",
      "Epoch 17/50\n",
      "55/55 [==============================] - 0s 2ms/step - loss: 4.2261e-05 - mean_squared_error: 4.2261e-05 - val_loss: 1.0923e-04 - val_mean_squared_error: 1.0923e-04\n",
      "Epoch 18/50\n",
      "55/55 [==============================] - 0s 2ms/step - loss: 3.5671e-05 - mean_squared_error: 3.5671e-05 - val_loss: 1.0929e-04 - val_mean_squared_error: 1.0929e-04\n",
      "Epoch 19/50\n",
      "55/55 [==============================] - 0s 2ms/step - loss: 5.8469e-05 - mean_squared_error: 5.8469e-05 - val_loss: 3.0318e-04 - val_mean_squared_error: 3.0318e-04\n",
      "Epoch 20/50\n",
      "55/55 [==============================] - 0s 2ms/step - loss: 5.2365e-05 - mean_squared_error: 5.2365e-05 - val_loss: 9.9365e-05 - val_mean_squared_error: 9.9365e-05\n",
      "Epoch 21/50\n",
      "55/55 [==============================] - 0s 2ms/step - loss: 3.8731e-05 - mean_squared_error: 3.8731e-05 - val_loss: 3.6594e-04 - val_mean_squared_error: 3.6594e-04\n",
      "Epoch 22/50\n",
      "55/55 [==============================] - 0s 2ms/step - loss: 3.7898e-05 - mean_squared_error: 3.7898e-05 - val_loss: 9.9126e-05 - val_mean_squared_error: 9.9126e-05\n",
      "Epoch 23/50\n",
      "55/55 [==============================] - 0s 2ms/step - loss: 3.7684e-05 - mean_squared_error: 3.7684e-05 - val_loss: 2.0936e-04 - val_mean_squared_error: 2.0936e-04\n",
      "Epoch 24/50\n",
      "55/55 [==============================] - 0s 2ms/step - loss: 3.6177e-05 - mean_squared_error: 3.6177e-05 - val_loss: 9.8260e-05 - val_mean_squared_error: 9.8260e-05\n",
      "Epoch 25/50\n",
      "55/55 [==============================] - 0s 2ms/step - loss: 3.6005e-05 - mean_squared_error: 3.6005e-05 - val_loss: 9.8439e-05 - val_mean_squared_error: 9.8439e-05\n",
      "Epoch 26/50\n",
      "55/55 [==============================] - 0s 2ms/step - loss: 4.2321e-05 - mean_squared_error: 4.2321e-05 - val_loss: 1.3871e-04 - val_mean_squared_error: 1.3871e-04\n",
      "Epoch 27/50\n",
      "55/55 [==============================] - 0s 2ms/step - loss: 3.1603e-05 - mean_squared_error: 3.1603e-05 - val_loss: 9.9745e-05 - val_mean_squared_error: 9.9745e-05\n",
      "Epoch 28/50\n",
      "55/55 [==============================] - 0s 2ms/step - loss: 3.6735e-05 - mean_squared_error: 3.6735e-05 - val_loss: 2.2112e-04 - val_mean_squared_error: 2.2112e-04\n",
      "Epoch 29/50\n",
      "55/55 [==============================] - 0s 2ms/step - loss: 2.9453e-05 - mean_squared_error: 2.9453e-05 - val_loss: 2.5582e-04 - val_mean_squared_error: 2.5582e-04\n",
      "Epoch 30/50\n",
      "55/55 [==============================] - 0s 2ms/step - loss: 3.0282e-05 - mean_squared_error: 3.0282e-05 - val_loss: 1.4268e-04 - val_mean_squared_error: 1.4268e-04\n",
      "Epoch 31/50\n",
      "55/55 [==============================] - 0s 2ms/step - loss: 3.7784e-05 - mean_squared_error: 3.7784e-05 - val_loss: 1.5029e-04 - val_mean_squared_error: 1.5029e-04\n",
      "Epoch 32/50\n",
      "55/55 [==============================] - 0s 3ms/step - loss: 3.9273e-05 - mean_squared_error: 3.9273e-05 - val_loss: 2.4297e-04 - val_mean_squared_error: 2.4297e-04\n",
      "Epoch 33/50\n",
      "55/55 [==============================] - 0s 2ms/step - loss: 4.5994e-05 - mean_squared_error: 4.5994e-05 - val_loss: 9.6520e-05 - val_mean_squared_error: 9.6520e-05\n",
      "Epoch 34/50\n",
      "55/55 [==============================] - 0s 2ms/step - loss: 3.2528e-05 - mean_squared_error: 3.2528e-05 - val_loss: 1.4922e-04 - val_mean_squared_error: 1.4922e-04\n",
      "Epoch 35/50\n",
      "55/55 [==============================] - 0s 2ms/step - loss: 3.0235e-05 - mean_squared_error: 3.0235e-05 - val_loss: 1.8946e-04 - val_mean_squared_error: 1.8946e-04\n",
      "Epoch 36/50\n",
      "55/55 [==============================] - 0s 2ms/step - loss: 3.4217e-05 - mean_squared_error: 3.4217e-05 - val_loss: 1.8811e-04 - val_mean_squared_error: 1.8811e-04\n",
      "Epoch 37/50\n",
      "55/55 [==============================] - 0s 2ms/step - loss: 3.8436e-05 - mean_squared_error: 3.8436e-05 - val_loss: 2.6263e-04 - val_mean_squared_error: 2.6263e-04\n",
      "Epoch 38/50\n",
      "55/55 [==============================] - 0s 2ms/step - loss: 3.2206e-05 - mean_squared_error: 3.2206e-05 - val_loss: 3.0035e-04 - val_mean_squared_error: 3.0035e-04\n",
      "Epoch 39/50\n",
      "55/55 [==============================] - 0s 2ms/step - loss: 5.3413e-05 - mean_squared_error: 5.3413e-05 - val_loss: 6.9433e-04 - val_mean_squared_error: 6.9433e-04\n",
      "Epoch 40/50\n",
      "55/55 [==============================] - 0s 2ms/step - loss: 5.0805e-05 - mean_squared_error: 5.0805e-05 - val_loss: 4.2070e-04 - val_mean_squared_error: 4.2070e-04\n",
      "Epoch 41/50\n",
      "55/55 [==============================] - 0s 2ms/step - loss: 3.8322e-05 - mean_squared_error: 3.8322e-05 - val_loss: 2.3203e-04 - val_mean_squared_error: 2.3203e-04\n",
      "Epoch 42/50\n",
      "55/55 [==============================] - 0s 2ms/step - loss: 3.1782e-05 - mean_squared_error: 3.1782e-05 - val_loss: 1.1749e-04 - val_mean_squared_error: 1.1749e-04\n",
      "Epoch 43/50\n",
      "55/55 [==============================] - 0s 2ms/step - loss: 5.3918e-05 - mean_squared_error: 5.3918e-05 - val_loss: 2.2117e-04 - val_mean_squared_error: 2.2117e-04\n",
      "Epoch 44/50\n",
      "55/55 [==============================] - 0s 2ms/step - loss: 3.8803e-05 - mean_squared_error: 3.8803e-05 - val_loss: 2.4458e-04 - val_mean_squared_error: 2.4458e-04\n",
      "Epoch 45/50\n",
      "55/55 [==============================] - 0s 2ms/step - loss: 4.1954e-05 - mean_squared_error: 4.1954e-05 - val_loss: 1.5287e-04 - val_mean_squared_error: 1.5287e-04\n",
      "Epoch 46/50\n",
      "55/55 [==============================] - 0s 2ms/step - loss: 4.7616e-05 - mean_squared_error: 4.7616e-05 - val_loss: 2.4446e-04 - val_mean_squared_error: 2.4446e-04\n",
      "Epoch 47/50\n"
     ]
    },
    {
     "name": "stdout",
     "output_type": "stream",
     "text": [
      "55/55 [==============================] - 0s 2ms/step - loss: 6.2450e-05 - mean_squared_error: 6.2450e-05 - val_loss: 9.7426e-05 - val_mean_squared_error: 9.7426e-05\n",
      "Epoch 48/50\n",
      "55/55 [==============================] - 0s 2ms/step - loss: 4.0197e-05 - mean_squared_error: 4.0197e-05 - val_loss: 3.4874e-04 - val_mean_squared_error: 3.4874e-04\n",
      "Epoch 49/50\n",
      "55/55 [==============================] - 0s 2ms/step - loss: 2.8933e-05 - mean_squared_error: 2.8933e-05 - val_loss: 1.3005e-04 - val_mean_squared_error: 1.3005e-04\n",
      "Epoch 50/50\n",
      "55/55 [==============================] - 0s 2ms/step - loss: 3.0194e-05 - mean_squared_error: 3.0194e-05 - val_loss: 4.6122e-04 - val_mean_squared_error: 4.6122e-04\n"
     ]
    }
   ],
   "source": [
    "model_lstm = Sequential([\n",
    "    LSTM(50, activation='tanh', input_shape=(1, length)),\n",
    "    Dense(1, activation='linear')\n",
    "])\n",
    "\n",
    "model_lstm.compile(optimizer='adam', loss='mean_squared_error', metrics=[MeanSquaredError()])\n",
    "\n",
    "lstm_losses = model_rnn.fit(X_train, y_train, validation_data=(X_val, y_val), epochs=50, batch_size=32)"
   ]
  },
  {
   "cell_type": "code",
   "execution_count": 138,
   "id": "f5d844c8",
   "metadata": {},
   "outputs": [
    {
     "data": {
      "image/png": "[encoded data removed]",
      "text/plain": [
       "<Figure size 432x288 with 1 Axes>"
      ]
     },
     "metadata": {
      "needs_background": "light"
     },
     "output_type": "display_data"
    }
   ],
   "source": [
    "plt.plot(lstm_losses.history['loss'], label='train')\n",
    "plt.plot(lstm_losses.history['val_loss'], label='validation')\n",
    "plt.title('LSTM Training and Validation Loss')\n",
    "plt.ylabel('loss')\n",
    "plt.xlabel('epoch')\n",
    "plt.legend()\n",
    "plt.show()"
   ]
  },
  {
   "cell_type": "markdown",
   "id": "22a52eb4",
   "metadata": {},
   "source": [
    "GRU"
   ]
  },
  {
   "cell_type": "code",
   "execution_count": 139,
   "id": "d6945686",
   "metadata": {},
   "outputs": [
    {
     "name": "stdout",
     "output_type": "stream",
     "text": [
      "Epoch 1/50\n",
      "55/55 [==============================] - 0s 3ms/step - loss: 3.6009e-05 - mean_squared_error: 3.6009e-05 - val_loss: 1.0435e-04 - val_mean_squared_error: 1.0435e-04\n",
      "Epoch 2/50\n",
      "55/55 [==============================] - 0s 2ms/step - loss: 3.8297e-05 - mean_squared_error: 3.8297e-05 - val_loss: 2.0546e-04 - val_mean_squared_error: 2.0546e-04\n",
      "Epoch 3/50\n",
      "55/55 [==============================] - 0s 2ms/step - loss: 5.2891e-05 - mean_squared_error: 5.2891e-05 - val_loss: 1.8018e-04 - val_mean_squared_error: 1.8018e-04\n",
      "Epoch 4/50\n",
      "55/55 [==============================] - 0s 3ms/step - loss: 3.3661e-05 - mean_squared_error: 3.3661e-05 - val_loss: 1.3141e-04 - val_mean_squared_error: 1.3141e-04\n",
      "Epoch 5/50\n",
      "55/55 [==============================] - 0s 2ms/step - loss: 2.8771e-05 - mean_squared_error: 2.8771e-05 - val_loss: 1.8668e-04 - val_mean_squared_error: 1.8668e-04\n",
      "Epoch 6/50\n",
      "55/55 [==============================] - 0s 2ms/step - loss: 3.4242e-05 - mean_squared_error: 3.4242e-05 - val_loss: 1.0417e-04 - val_mean_squared_error: 1.0417e-04\n",
      "Epoch 7/50\n",
      "55/55 [==============================] - 0s 2ms/step - loss: 3.6875e-05 - mean_squared_error: 3.6875e-05 - val_loss: 9.5145e-05 - val_mean_squared_error: 9.5145e-05\n",
      "Epoch 8/50\n",
      "55/55 [==============================] - 0s 2ms/step - loss: 3.4450e-05 - mean_squared_error: 3.4450e-05 - val_loss: 2.1745e-04 - val_mean_squared_error: 2.1745e-04\n",
      "Epoch 9/50\n",
      "55/55 [==============================] - 0s 2ms/step - loss: 3.6683e-05 - mean_squared_error: 3.6683e-05 - val_loss: 1.3035e-04 - val_mean_squared_error: 1.3035e-04\n",
      "Epoch 10/50\n",
      "55/55 [==============================] - 0s 2ms/step - loss: 4.1919e-05 - mean_squared_error: 4.1919e-05 - val_loss: 1.7175e-04 - val_mean_squared_error: 1.7175e-04\n",
      "Epoch 11/50\n",
      "55/55 [==============================] - 0s 2ms/step - loss: 5.1078e-05 - mean_squared_error: 5.1078e-05 - val_loss: 4.1240e-04 - val_mean_squared_error: 4.1240e-04\n",
      "Epoch 12/50\n",
      "55/55 [==============================] - 0s 2ms/step - loss: 5.4381e-05 - mean_squared_error: 5.4381e-05 - val_loss: 9.1327e-04 - val_mean_squared_error: 9.1327e-04\n",
      "Epoch 13/50\n",
      "55/55 [==============================] - 0s 2ms/step - loss: 4.9644e-05 - mean_squared_error: 4.9644e-05 - val_loss: 1.0106e-04 - val_mean_squared_error: 1.0106e-04\n",
      "Epoch 14/50\n",
      "55/55 [==============================] - 0s 2ms/step - loss: 2.9678e-05 - mean_squared_error: 2.9678e-05 - val_loss: 9.3375e-05 - val_mean_squared_error: 9.3375e-05\n",
      "Epoch 15/50\n",
      "55/55 [==============================] - 0s 2ms/step - loss: 3.3717e-05 - mean_squared_error: 3.3717e-05 - val_loss: 1.2383e-04 - val_mean_squared_error: 1.2383e-04\n",
      "Epoch 16/50\n",
      "55/55 [==============================] - 0s 2ms/step - loss: 3.2902e-05 - mean_squared_error: 3.2902e-05 - val_loss: 9.0431e-05 - val_mean_squared_error: 9.0431e-05\n",
      "Epoch 17/50\n",
      "55/55 [==============================] - 0s 2ms/step - loss: 3.2936e-05 - mean_squared_error: 3.2936e-05 - val_loss: 4.0371e-04 - val_mean_squared_error: 4.0371e-04\n",
      "Epoch 18/50\n",
      "55/55 [==============================] - 0s 2ms/step - loss: 3.4344e-05 - mean_squared_error: 3.4344e-05 - val_loss: 1.6205e-04 - val_mean_squared_error: 1.6205e-04\n",
      "Epoch 19/50\n",
      "55/55 [==============================] - 0s 2ms/step - loss: 4.0622e-05 - mean_squared_error: 4.0622e-05 - val_loss: 9.5450e-05 - val_mean_squared_error: 9.5450e-05\n",
      "Epoch 20/50\n",
      "55/55 [==============================] - 0s 2ms/step - loss: 3.0136e-05 - mean_squared_error: 3.0136e-05 - val_loss: 2.1332e-04 - val_mean_squared_error: 2.1332e-04\n",
      "Epoch 21/50\n",
      "55/55 [==============================] - 0s 2ms/step - loss: 3.5101e-05 - mean_squared_error: 3.5101e-05 - val_loss: 3.9648e-04 - val_mean_squared_error: 3.9648e-04\n",
      "Epoch 22/50\n",
      "55/55 [==============================] - 0s 2ms/step - loss: 2.9658e-05 - mean_squared_error: 2.9658e-05 - val_loss: 1.0789e-04 - val_mean_squared_error: 1.0789e-04\n",
      "Epoch 23/50\n",
      "55/55 [==============================] - 0s 2ms/step - loss: 2.8847e-05 - mean_squared_error: 2.8847e-05 - val_loss: 1.3168e-04 - val_mean_squared_error: 1.3168e-04\n",
      "Epoch 24/50\n",
      "55/55 [==============================] - 0s 2ms/step - loss: 2.6736e-05 - mean_squared_error: 2.6736e-05 - val_loss: 2.8152e-04 - val_mean_squared_error: 2.8152e-04\n",
      "Epoch 25/50\n",
      "55/55 [==============================] - 0s 2ms/step - loss: 4.2067e-05 - mean_squared_error: 4.2067e-05 - val_loss: 1.3891e-04 - val_mean_squared_error: 1.3891e-04\n",
      "Epoch 26/50\n",
      "55/55 [==============================] - 0s 2ms/step - loss: 3.3331e-05 - mean_squared_error: 3.3331e-05 - val_loss: 1.0198e-04 - val_mean_squared_error: 1.0198e-04\n",
      "Epoch 27/50\n",
      "55/55 [==============================] - 0s 2ms/step - loss: 3.5960e-05 - mean_squared_error: 3.5960e-05 - val_loss: 8.1277e-04 - val_mean_squared_error: 8.1277e-04\n",
      "Epoch 28/50\n",
      "55/55 [==============================] - 0s 2ms/step - loss: 4.4349e-05 - mean_squared_error: 4.4349e-05 - val_loss: 5.1743e-04 - val_mean_squared_error: 5.1743e-04\n",
      "Epoch 29/50\n",
      "55/55 [==============================] - 0s 2ms/step - loss: 3.3884e-05 - mean_squared_error: 3.3884e-05 - val_loss: 3.2173e-04 - val_mean_squared_error: 3.2173e-04\n",
      "Epoch 30/50\n",
      "55/55 [==============================] - 0s 2ms/step - loss: 3.3308e-05 - mean_squared_error: 3.3308e-05 - val_loss: 7.2130e-04 - val_mean_squared_error: 7.2130e-04\n",
      "Epoch 31/50\n",
      "55/55 [==============================] - 0s 2ms/step - loss: 3.6702e-05 - mean_squared_error: 3.6702e-05 - val_loss: 1.8841e-04 - val_mean_squared_error: 1.8841e-04\n",
      "Epoch 32/50\n",
      "55/55 [==============================] - 0s 2ms/step - loss: 3.5330e-05 - mean_squared_error: 3.5330e-05 - val_loss: 2.0351e-04 - val_mean_squared_error: 2.0351e-04\n",
      "Epoch 33/50\n",
      "55/55 [==============================] - 0s 2ms/step - loss: 3.5784e-05 - mean_squared_error: 3.5784e-05 - val_loss: 1.1434e-04 - val_mean_squared_error: 1.1434e-04\n",
      "Epoch 34/50\n",
      "55/55 [==============================] - 0s 2ms/step - loss: 3.2275e-05 - mean_squared_error: 3.2275e-05 - val_loss: 2.6302e-04 - val_mean_squared_error: 2.6302e-04\n",
      "Epoch 35/50\n",
      "55/55 [==============================] - 0s 2ms/step - loss: 3.6522e-05 - mean_squared_error: 3.6522e-05 - val_loss: 1.2218e-04 - val_mean_squared_error: 1.2218e-04\n",
      "Epoch 36/50\n",
      "55/55 [==============================] - 0s 2ms/step - loss: 3.0027e-05 - mean_squared_error: 3.0027e-05 - val_loss: 1.1529e-04 - val_mean_squared_error: 1.1529e-04\n",
      "Epoch 37/50\n",
      "55/55 [==============================] - 0s 2ms/step - loss: 2.7932e-05 - mean_squared_error: 2.7932e-05 - val_loss: 1.7848e-04 - val_mean_squared_error: 1.7848e-04\n",
      "Epoch 38/50\n",
      "55/55 [==============================] - 0s 2ms/step - loss: 3.0928e-05 - mean_squared_error: 3.0928e-05 - val_loss: 9.4140e-05 - val_mean_squared_error: 9.4140e-05\n",
      "Epoch 39/50\n",
      "55/55 [==============================] - 0s 2ms/step - loss: 2.8601e-05 - mean_squared_error: 2.8601e-05 - val_loss: 3.4173e-04 - val_mean_squared_error: 3.4173e-04\n",
      "Epoch 40/50\n",
      "55/55 [==============================] - 0s 2ms/step - loss: 3.3876e-05 - mean_squared_error: 3.3876e-05 - val_loss: 3.4082e-04 - val_mean_squared_error: 3.4082e-04\n",
      "Epoch 41/50\n",
      "55/55 [==============================] - 0s 2ms/step - loss: 3.0235e-05 - mean_squared_error: 3.0235e-05 - val_loss: 2.4451e-04 - val_mean_squared_error: 2.4451e-04\n",
      "Epoch 42/50\n",
      "55/55 [==============================] - 0s 2ms/step - loss: 4.5736e-05 - mean_squared_error: 4.5736e-05 - val_loss: 1.4898e-04 - val_mean_squared_error: 1.4898e-04\n",
      "Epoch 43/50\n",
      "55/55 [==============================] - 0s 2ms/step - loss: 3.9686e-05 - mean_squared_error: 3.9686e-05 - val_loss: 2.5989e-04 - val_mean_squared_error: 2.5989e-04\n",
      "Epoch 44/50\n",
      "55/55 [==============================] - 0s 2ms/step - loss: 3.0804e-05 - mean_squared_error: 3.0804e-05 - val_loss: 2.5946e-04 - val_mean_squared_error: 2.5946e-04\n",
      "Epoch 45/50\n",
      "55/55 [==============================] - 0s 2ms/step - loss: 2.9428e-05 - mean_squared_error: 2.9428e-05 - val_loss: 4.5145e-04 - val_mean_squared_error: 4.5145e-04\n",
      "Epoch 46/50\n",
      "55/55 [==============================] - 0s 2ms/step - loss: 3.6825e-05 - mean_squared_error: 3.6825e-05 - val_loss: 3.6467e-04 - val_mean_squared_error: 3.6467e-04\n",
      "Epoch 47/50\n"
     ]
    },
    {
     "name": "stdout",
     "output_type": "stream",
     "text": [
      "55/55 [==============================] - 0s 2ms/step - loss: 4.5188e-05 - mean_squared_error: 4.5188e-05 - val_loss: 1.6544e-04 - val_mean_squared_error: 1.6544e-04\n",
      "Epoch 48/50\n",
      "55/55 [==============================] - 0s 2ms/step - loss: 3.4002e-05 - mean_squared_error: 3.4002e-05 - val_loss: 1.0380e-04 - val_mean_squared_error: 1.0380e-04\n",
      "Epoch 49/50\n",
      "55/55 [==============================] - 0s 2ms/step - loss: 3.7054e-05 - mean_squared_error: 3.7054e-05 - val_loss: 2.0331e-04 - val_mean_squared_error: 2.0331e-04\n",
      "Epoch 50/50\n",
      "55/55 [==============================] - 0s 2ms/step - loss: 3.4190e-05 - mean_squared_error: 3.4190e-05 - val_loss: 2.9344e-04 - val_mean_squared_error: 2.9344e-04\n"
     ]
    }
   ],
   "source": [
    "model_gru = Sequential([\n",
    "    GRU(50, activation='tanh', input_shape=(1, length)),\n",
    "    Dense(1, activation='linear')\n",
    "])\n",
    "\n",
    "model_gru.compile(optimizer='adam', loss='mean_squared_error', metrics=[MeanSquaredError()])\n",
    "\n",
    "gru_losses = model_rnn.fit(X_train, y_train, validation_data=(X_val, y_val), epochs=50, batch_size=32)"
   ]
  },
  {
   "cell_type": "code",
   "execution_count": 140,
   "id": "dec31c21",
   "metadata": {},
   "outputs": [
    {
     "data": {
      "image/png": "[encoded data removed]",
      "text/plain": [
       "<Figure size 432x288 with 1 Axes>"
      ]
     },
     "metadata": {
      "needs_background": "light"
     },
     "output_type": "display_data"
    }
   ],
   "source": [
    "plt.plot(gru_losses.history['loss'], label='train')\n",
    "plt.plot(gru_losses.history['val_loss'], label='validation')\n",
    "plt.title('GRU Training and Validation Loss')\n",
    "plt.ylabel('loss')\n",
    "plt.xlabel('epoch')\n",
    "plt.legend()\n",
    "plt.show()"
   ]
  },
  {
   "cell_type": "markdown",
   "id": "53089658",
   "metadata": {},
   "source": [
    "The LSTM model exhibits a more stable and faster convergence compared to the Simple RNN and GRU, which is represented by its smoother loss curves and lower final loss values. The Simple RNN shows overfitting, with greater differences in validation loss. These differences are likely due to LSTMs' and GRUs' ability to capture long-term patterns in data more efficiently than Simple RNNs. "
   ]
  },
  {
   "cell_type": "markdown",
   "id": "2522358a",
   "metadata": {},
   "source": [
    "# Part 3"
   ]
  },
  {
   "cell_type": "markdown",
   "id": "5f3ca8f0",
   "metadata": {},
   "source": [
    "Yes, a traditional feed-forward network can be used to solve time series problems by converting time series data into a structured feature set, where each input feature represents a specific time step's data. This converts the problem to regression. However, feed-forward networks may not apture the sequential dependencies in time series data as effectively as RNNs, LSTMs, or GRUs, which are specifically designed to handle such sequences."
   ]
  },
  {
   "cell_type": "markdown",
   "id": "4dac9edc",
   "metadata": {},
   "source": [
    "# Task 3"
   ]
  },
  {
   "cell_type": "markdown",
   "id": "c8cdc926",
   "metadata": {},
   "source": [
    "The cosine similarity measures the cosine of the angle between the word embeddings. This similarity ranges from -1 (very different meanings) to 1 (very similar meanings), and 0 indicates no similarity.\n",
    "\n",
    "$\\text{cosine similarity}$ = $\\frac{A \\cdot B}{\\|A\\| \\|B\\|}$\n"
   ]
  },
  {
   "cell_type": "markdown",
   "id": "3ee13e46",
   "metadata": {},
   "source": [
    "For the dissimilarity score, the Euclidean distance normalized by the dimensionality of the embeddings can be used. The score can range from 0, which means the words are identical. A larger value means the words are less similar.\n",
    "\n",
    "$\\text{dissimilarity score}$ = $\\frac{\\sqrt{\\sum_{i=1}^{n} (A_i - B_i)^2}}{n}$\n"
   ]
  },
  {
   "cell_type": "code",
   "execution_count": 148,
   "id": "7036208c",
   "metadata": {},
   "outputs": [
    {
     "name": "stdout",
     "output_type": "stream",
     "text": [
      "[==================================================] 100.0% 104.8/104.8MB downloaded\n"
     ]
    }
   ],
   "source": [
    "import gensim.downloader as api\n",
    "model = api.load(\"glove-twitter-25\")"
   ]
  },
  {
   "cell_type": "code",
   "execution_count": 154,
   "id": "3f9903d4",
   "metadata": {},
   "outputs": [
    {
     "name": "stdout",
     "output_type": "stream",
     "text": [
      "Enter the first word: computer\n",
      "Enter the second word: man\n",
      "Cosine Similarity: 0.6237678527832031\n",
      "Dissimilarity Score: 0.190484619140625\n"
     ]
    }
   ],
   "source": [
    "import numpy as np\n",
    "from gensim.models import KeyedVectors\n",
    "\n",
    "def calculate_scores(w1, w2):\n",
    "\n",
    "    if w1 in model.key_to_index and w2 in model.key_to_index:\n",
    "\n",
    "        v1 = model[w1]\n",
    "        v2 = model[w2]\n",
    "        \n",
    "        cosine = np.dot(v1, v2) / (np.linalg.norm(v1) * np.linalg.norm(v2))\n",
    "        \n",
    "        dissimilarity = np.sqrt(np.sum((v1 - v2) ** 2)) / len(v1)\n",
    "        \n",
    "        return cosine, dissimilarity\n",
    "    \n",
    "    else:\n",
    "        return \"Invalid\", None\n",
    "\n",
    "word1 = input(\"Enter the first word: \")\n",
    "word2 = input(\"Enter the second word: \")\n",
    "\n",
    "cosine, dissimilarity = calculate_scores(word1, word2)\n",
    "\n",
    "if dissimilarity is not None:\n",
    "    print(f\"Cosine Similarity: {cosine}\")\n",
    "    print(f\"Dissimilarity Score: {dissimilarity}\")\n",
    "    \n",
    "else:\n",
    "    print(cosine) "
   ]
  }
 ],
 "metadata": {
  "kernelspec": {
   "display_name": "Python 3 (ipykernel)",
   "language": "python",
   "name": "python3"
  },
  "language_info": {
   "codemirror_mode": {
    "name": "ipython",
    "version": 3
   },
   "file_extension": ".py",
   "mimetype": "text/x-python",
   "name": "python",
   "nbconvert_exporter": "python",
   "pygments_lexer": "ipython3",
   "version": "3.9.12"
  }
 },
 "nbformat": 4,
 "nbformat_minor": 5
}
